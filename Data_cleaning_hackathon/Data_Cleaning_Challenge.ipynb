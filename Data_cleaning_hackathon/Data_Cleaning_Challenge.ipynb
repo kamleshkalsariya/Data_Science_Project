{
 "cells": [
  {
   "cell_type": "code",
   "execution_count": 1,
   "id": "68cf64a9",
   "metadata": {},
   "outputs": [],
   "source": [
    "import numpy as np\n",
    "import pandas as pd\n",
    "#import warnings\n",
    "#warnings.filterwarnings(\"ignore\")"
   ]
  },
  {
   "cell_type": "code",
   "execution_count": 2,
   "id": "d0cb45d8",
   "metadata": {},
   "outputs": [
    {
     "name": "stderr",
     "output_type": "stream",
     "text": [
      "D:\\Anaconda\\lib\\site-packages\\IPython\\core\\interactiveshell.py:3165: DtypeWarning: Columns (22,32) have mixed types.Specify dtype option on import or set low_memory=False.\n",
      "  has_raised = await self.run_ast_nodes(code_ast.body, cell_name,\n"
     ]
    },
    {
     "data": {
      "text/html": [
       "<div>\n",
       "<style scoped>\n",
       "    .dataframe tbody tr th:only-of-type {\n",
       "        vertical-align: middle;\n",
       "    }\n",
       "\n",
       "    .dataframe tbody tr th {\n",
       "        vertical-align: top;\n",
       "    }\n",
       "\n",
       "    .dataframe thead th {\n",
       "        text-align: right;\n",
       "    }\n",
       "</style>\n",
       "<table border=\"1\" class=\"dataframe\">\n",
       "  <thead>\n",
       "    <tr style=\"text-align: right;\">\n",
       "      <th></th>\n",
       "      <th>Permit Number</th>\n",
       "      <th>Permit Type</th>\n",
       "      <th>Permit Type Definition</th>\n",
       "      <th>Permit Creation Date</th>\n",
       "      <th>Block</th>\n",
       "      <th>Lot</th>\n",
       "      <th>Street Number</th>\n",
       "      <th>Street Number Suffix</th>\n",
       "      <th>Street Name</th>\n",
       "      <th>Street Suffix</th>\n",
       "      <th>...</th>\n",
       "      <th>Existing Construction Type</th>\n",
       "      <th>Existing Construction Type Description</th>\n",
       "      <th>Proposed Construction Type</th>\n",
       "      <th>Proposed Construction Type Description</th>\n",
       "      <th>Site Permit</th>\n",
       "      <th>Supervisor District</th>\n",
       "      <th>Neighborhoods - Analysis Boundaries</th>\n",
       "      <th>Zipcode</th>\n",
       "      <th>Location</th>\n",
       "      <th>Record ID</th>\n",
       "    </tr>\n",
       "  </thead>\n",
       "  <tbody>\n",
       "    <tr>\n",
       "      <th>94925</th>\n",
       "      <td>201508103829</td>\n",
       "      <td>8</td>\n",
       "      <td>otc alterations permit</td>\n",
       "      <td>08/10/2015</td>\n",
       "      <td>4259</td>\n",
       "      <td>032</td>\n",
       "      <td>2109</td>\n",
       "      <td>NaN</td>\n",
       "      <td>24th</td>\n",
       "      <td>St</td>\n",
       "      <td>...</td>\n",
       "      <td>5.0</td>\n",
       "      <td>wood frame (5)</td>\n",
       "      <td>5.0</td>\n",
       "      <td>wood frame (5)</td>\n",
       "      <td>NaN</td>\n",
       "      <td>10.0</td>\n",
       "      <td>Potrero Hill</td>\n",
       "      <td>94107.0</td>\n",
       "      <td>(37.753108094075905, -122.4007498595746)</td>\n",
       "      <td>1391501358521</td>\n",
       "    </tr>\n",
       "    <tr>\n",
       "      <th>152576</th>\n",
       "      <td>201703211990</td>\n",
       "      <td>8</td>\n",
       "      <td>otc alterations permit</td>\n",
       "      <td>03/21/2017</td>\n",
       "      <td>0309</td>\n",
       "      <td>011</td>\n",
       "      <td>172</td>\n",
       "      <td>NaN</td>\n",
       "      <td>Geary</td>\n",
       "      <td>St</td>\n",
       "      <td>...</td>\n",
       "      <td>1.0</td>\n",
       "      <td>constr type 1</td>\n",
       "      <td>1.0</td>\n",
       "      <td>constr type 1</td>\n",
       "      <td>NaN</td>\n",
       "      <td>3.0</td>\n",
       "      <td>Financial District/South Beach</td>\n",
       "      <td>94108.0</td>\n",
       "      <td>(37.7877774294891, -122.40635209361436)</td>\n",
       "      <td>1456884350878</td>\n",
       "    </tr>\n",
       "    <tr>\n",
       "      <th>9053</th>\n",
       "      <td>M383927</td>\n",
       "      <td>8</td>\n",
       "      <td>otc alterations permit</td>\n",
       "      <td>04/08/2013</td>\n",
       "      <td>6155</td>\n",
       "      <td>006</td>\n",
       "      <td>876</td>\n",
       "      <td>NaN</td>\n",
       "      <td>Girard</td>\n",
       "      <td>St</td>\n",
       "      <td>...</td>\n",
       "      <td>NaN</td>\n",
       "      <td>NaN</td>\n",
       "      <td>NaN</td>\n",
       "      <td>NaN</td>\n",
       "      <td>NaN</td>\n",
       "      <td>9.0</td>\n",
       "      <td>Portola</td>\n",
       "      <td>94134.0</td>\n",
       "      <td>(37.7216847559312, -122.40256482865333)</td>\n",
       "      <td>1301079197052</td>\n",
       "    </tr>\n",
       "    <tr>\n",
       "      <th>21150</th>\n",
       "      <td>201308093955</td>\n",
       "      <td>8</td>\n",
       "      <td>otc alterations permit</td>\n",
       "      <td>08/09/2013</td>\n",
       "      <td>0510</td>\n",
       "      <td>015A</td>\n",
       "      <td>2272</td>\n",
       "      <td>NaN</td>\n",
       "      <td>Greenwich</td>\n",
       "      <td>St</td>\n",
       "      <td>...</td>\n",
       "      <td>5.0</td>\n",
       "      <td>wood frame (5)</td>\n",
       "      <td>5.0</td>\n",
       "      <td>wood frame (5)</td>\n",
       "      <td>NaN</td>\n",
       "      <td>2.0</td>\n",
       "      <td>Marina</td>\n",
       "      <td>94123.0</td>\n",
       "      <td>(37.799059567778315, -122.43708902148089)</td>\n",
       "      <td>131372772458</td>\n",
       "    </tr>\n",
       "    <tr>\n",
       "      <th>179925</th>\n",
       "      <td>201708255892</td>\n",
       "      <td>8</td>\n",
       "      <td>otc alterations permit</td>\n",
       "      <td>08/25/2017</td>\n",
       "      <td>6023</td>\n",
       "      <td>028</td>\n",
       "      <td>305</td>\n",
       "      <td>NaN</td>\n",
       "      <td>Moscow</td>\n",
       "      <td>St</td>\n",
       "      <td>...</td>\n",
       "      <td>5.0</td>\n",
       "      <td>wood frame (5)</td>\n",
       "      <td>5.0</td>\n",
       "      <td>wood frame (5)</td>\n",
       "      <td>NaN</td>\n",
       "      <td>11.0</td>\n",
       "      <td>Excelsior</td>\n",
       "      <td>94112.0</td>\n",
       "      <td>(37.722537838771125, -122.42631803137046)</td>\n",
       "      <td>1476098194473</td>\n",
       "    </tr>\n",
       "  </tbody>\n",
       "</table>\n",
       "<p>5 rows × 43 columns</p>\n",
       "</div>"
      ],
      "text/plain": [
       "       Permit Number  Permit Type  Permit Type Definition  \\\n",
       "94925   201508103829            8  otc alterations permit   \n",
       "152576  201703211990            8  otc alterations permit   \n",
       "9053         M383927            8  otc alterations permit   \n",
       "21150   201308093955            8  otc alterations permit   \n",
       "179925  201708255892            8  otc alterations permit   \n",
       "\n",
       "       Permit Creation Date Block   Lot  Street Number Street Number Suffix  \\\n",
       "94925            08/10/2015  4259   032           2109                  NaN   \n",
       "152576           03/21/2017  0309   011            172                  NaN   \n",
       "9053             04/08/2013  6155   006            876                  NaN   \n",
       "21150            08/09/2013  0510  015A           2272                  NaN   \n",
       "179925           08/25/2017  6023   028            305                  NaN   \n",
       "\n",
       "       Street Name Street Suffix  ...  Existing Construction Type  \\\n",
       "94925         24th            St  ...                         5.0   \n",
       "152576       Geary            St  ...                         1.0   \n",
       "9053        Girard            St  ...                         NaN   \n",
       "21150    Greenwich            St  ...                         5.0   \n",
       "179925      Moscow            St  ...                         5.0   \n",
       "\n",
       "       Existing Construction Type Description Proposed Construction Type  \\\n",
       "94925                          wood frame (5)                        5.0   \n",
       "152576                          constr type 1                        1.0   \n",
       "9053                                      NaN                        NaN   \n",
       "21150                          wood frame (5)                        5.0   \n",
       "179925                         wood frame (5)                        5.0   \n",
       "\n",
       "       Proposed Construction Type Description Site Permit Supervisor District  \\\n",
       "94925                          wood frame (5)         NaN                10.0   \n",
       "152576                          constr type 1         NaN                 3.0   \n",
       "9053                                      NaN         NaN                 9.0   \n",
       "21150                          wood frame (5)         NaN                 2.0   \n",
       "179925                         wood frame (5)         NaN                11.0   \n",
       "\n",
       "       Neighborhoods - Analysis Boundaries  Zipcode  \\\n",
       "94925                         Potrero Hill  94107.0   \n",
       "152576      Financial District/South Beach  94108.0   \n",
       "9053                               Portola  94134.0   \n",
       "21150                               Marina  94123.0   \n",
       "179925                           Excelsior  94112.0   \n",
       "\n",
       "                                         Location      Record ID  \n",
       "94925    (37.753108094075905, -122.4007498595746)  1391501358521  \n",
       "152576    (37.7877774294891, -122.40635209361436)  1456884350878  \n",
       "9053      (37.7216847559312, -122.40256482865333)  1301079197052  \n",
       "21150   (37.799059567778315, -122.43708902148089)   131372772458  \n",
       "179925  (37.722537838771125, -122.42631803137046)  1476098194473  \n",
       "\n",
       "[5 rows x 43 columns]"
      ]
     },
     "execution_count": 2,
     "metadata": {},
     "output_type": "execute_result"
    }
   ],
   "source": [
    "sf_permits = pd.read_csv(\"Building_Permits.csv\")\n",
    "sf_permits.sample(5)"
   ]
  },
  {
   "cell_type": "code",
   "execution_count": 3,
   "id": "f0e33dd3",
   "metadata": {},
   "outputs": [
    {
     "data": {
      "text/plain": [
       "(198900, 43)"
      ]
     },
     "execution_count": 3,
     "metadata": {},
     "output_type": "execute_result"
    }
   ],
   "source": [
    "sf_permits.shape"
   ]
  },
  {
   "cell_type": "markdown",
   "id": "43c846fd",
   "metadata": {},
   "source": [
    "### See how many missing data points we have"
   ]
  },
  {
   "cell_type": "code",
   "execution_count": 4,
   "id": "32133fdb",
   "metadata": {},
   "outputs": [
    {
     "data": {
      "text/plain": [
       "Permit Number                                  0\n",
       "Permit Type                                    0\n",
       "Permit Type Definition                         0\n",
       "Permit Creation Date                           0\n",
       "Block                                          0\n",
       "Lot                                            0\n",
       "Street Number                                  0\n",
       "Street Number Suffix                      196684\n",
       "Street Name                                    0\n",
       "Street Suffix                               2768\n",
       "Unit                                      169421\n",
       "Unit Suffix                               196939\n",
       "Description                                  290\n",
       "Current Status                                 0\n",
       "Current Status Date                            0\n",
       "Filed Date                                     0\n",
       "Issued Date                                14940\n",
       "Completed Date                            101709\n",
       "First Construction Document Date           14946\n",
       "Structural Notification                   191978\n",
       "Number of Existing Stories                 42784\n",
       "Number of Proposed Stories                 42868\n",
       "Voluntary Soft-Story Retrofit             198865\n",
       "Fire Only Permit                          180073\n",
       "Permit Expiration Date                     51880\n",
       "Estimated Cost                             38066\n",
       "Revised Cost                                6066\n",
       "Existing Use                               41114\n",
       "Existing Units                             51538\n",
       "Proposed Use                               42439\n",
       "Proposed Units                             50911\n",
       "Plansets                                   37309\n",
       "TIDF Compliance                           198898\n",
       "Existing Construction Type                 43366\n",
       "Existing Construction Type Description     43366\n",
       "Proposed Construction Type                 43162\n",
       "Proposed Construction Type Description     43162\n",
       "Site Permit                               193541\n",
       "Supervisor District                         1717\n",
       "Neighborhoods - Analysis Boundaries         1725\n",
       "Zipcode                                     1716\n",
       "Location                                    1700\n",
       "Record ID                                      0\n",
       "dtype: int64"
      ]
     },
     "execution_count": 4,
     "metadata": {},
     "output_type": "execute_result"
    }
   ],
   "source": [
    "total_missing_count = sf_permits.isnull().sum()\n",
    "total_missing_count"
   ]
  },
  {
   "cell_type": "code",
   "execution_count": 5,
   "id": "b2a82d26",
   "metadata": {},
   "outputs": [
    {
     "data": {
      "text/plain": [
       "8552700"
      ]
     },
     "execution_count": 5,
     "metadata": {},
     "output_type": "execute_result"
    }
   ],
   "source": [
    "total_cells = np.product(sf_permits.shape)\n",
    "total_cells"
   ]
  },
  {
   "cell_type": "code",
   "execution_count": 6,
   "id": "3d99accd",
   "metadata": {},
   "outputs": [
    {
     "data": {
      "text/plain": [
       "2245941"
      ]
     },
     "execution_count": 6,
     "metadata": {},
     "output_type": "execute_result"
    }
   ],
   "source": [
    "total_missing = total_missing_count.sum()\n",
    "total_missing"
   ]
  },
  {
   "cell_type": "code",
   "execution_count": 7,
   "id": "9ab1233d",
   "metadata": {},
   "outputs": [
    {
     "data": {
      "text/plain": [
       "26.26002315058403"
      ]
     },
     "execution_count": 7,
     "metadata": {},
     "output_type": "execute_result"
    }
   ],
   "source": [
    "total_missing/total_cells*100"
   ]
  },
  {
   "cell_type": "markdown",
   "id": "0c7eeb4e",
   "metadata": {},
   "source": [
    "### Figure out why the data is missing"
   ]
  },
  {
   "cell_type": "code",
   "execution_count": 8,
   "id": "acd20dd0",
   "metadata": {},
   "outputs": [
    {
     "data": {
      "text/plain": [
       "array(['St', 'Av', 'Tr', 'Ct', 'Bl', 'Wy', 'Dr', nan, 'Rd', 'Cr', 'Pl',\n",
       "       'Ln', 'Hy', 'Pk', 'Al', 'Pz', 'Wk', 'Rw', 'So', 'Sw', 'No', 'Hl'],\n",
       "      dtype=object)"
      ]
     },
     "execution_count": 8,
     "metadata": {},
     "output_type": "execute_result"
    }
   ],
   "source": [
    "sf_permits['Street Suffix'].unique()"
   ]
  },
  {
   "cell_type": "code",
   "execution_count": 9,
   "id": "5afaf5d7",
   "metadata": {},
   "outputs": [
    {
     "data": {
      "text/html": [
       "<div>\n",
       "<style scoped>\n",
       "    .dataframe tbody tr th:only-of-type {\n",
       "        vertical-align: middle;\n",
       "    }\n",
       "\n",
       "    .dataframe tbody tr th {\n",
       "        vertical-align: top;\n",
       "    }\n",
       "\n",
       "    .dataframe thead th {\n",
       "        text-align: right;\n",
       "    }\n",
       "</style>\n",
       "<table border=\"1\" class=\"dataframe\">\n",
       "  <thead>\n",
       "    <tr style=\"text-align: right;\">\n",
       "      <th></th>\n",
       "      <th>Permit Number</th>\n",
       "      <th>Permit Type</th>\n",
       "      <th>Permit Type Definition</th>\n",
       "      <th>Permit Creation Date</th>\n",
       "      <th>Block</th>\n",
       "      <th>Lot</th>\n",
       "      <th>Street Number</th>\n",
       "      <th>Street Name</th>\n",
       "      <th>Street Suffix</th>\n",
       "      <th>Unit</th>\n",
       "      <th>...</th>\n",
       "      <th>Existing Construction Type</th>\n",
       "      <th>Existing Construction Type Description</th>\n",
       "      <th>Proposed Construction Type</th>\n",
       "      <th>Proposed Construction Type Description</th>\n",
       "      <th>Site Permit</th>\n",
       "      <th>Supervisor District</th>\n",
       "      <th>Neighborhoods - Analysis Boundaries</th>\n",
       "      <th>Zipcode</th>\n",
       "      <th>Location</th>\n",
       "      <th>Record ID</th>\n",
       "    </tr>\n",
       "  </thead>\n",
       "  <tbody>\n",
       "    <tr>\n",
       "      <th>0</th>\n",
       "      <td>201505065519</td>\n",
       "      <td>4</td>\n",
       "      <td>sign - erect</td>\n",
       "      <td>05/06/2015</td>\n",
       "      <td>0326</td>\n",
       "      <td>023</td>\n",
       "      <td>140</td>\n",
       "      <td>Ellis</td>\n",
       "      <td>St</td>\n",
       "      <td>NaN</td>\n",
       "      <td>...</td>\n",
       "      <td>3.0</td>\n",
       "      <td>constr type 3</td>\n",
       "      <td>NaN</td>\n",
       "      <td>NaN</td>\n",
       "      <td>NaN</td>\n",
       "      <td>3.0</td>\n",
       "      <td>Tenderloin</td>\n",
       "      <td>94102.0</td>\n",
       "      <td>(37.785719256680785, -122.40852313194863)</td>\n",
       "      <td>1380611233945</td>\n",
       "    </tr>\n",
       "    <tr>\n",
       "      <th>1</th>\n",
       "      <td>201604195146</td>\n",
       "      <td>4</td>\n",
       "      <td>sign - erect</td>\n",
       "      <td>04/19/2016</td>\n",
       "      <td>0306</td>\n",
       "      <td>007</td>\n",
       "      <td>440</td>\n",
       "      <td>Geary</td>\n",
       "      <td>St</td>\n",
       "      <td>0.0</td>\n",
       "      <td>...</td>\n",
       "      <td>3.0</td>\n",
       "      <td>constr type 3</td>\n",
       "      <td>NaN</td>\n",
       "      <td>NaN</td>\n",
       "      <td>NaN</td>\n",
       "      <td>3.0</td>\n",
       "      <td>Tenderloin</td>\n",
       "      <td>94102.0</td>\n",
       "      <td>(37.78733980600732, -122.41063199757738)</td>\n",
       "      <td>1420164406718</td>\n",
       "    </tr>\n",
       "    <tr>\n",
       "      <th>2</th>\n",
       "      <td>201605278609</td>\n",
       "      <td>3</td>\n",
       "      <td>additions alterations or repairs</td>\n",
       "      <td>05/27/2016</td>\n",
       "      <td>0595</td>\n",
       "      <td>203</td>\n",
       "      <td>1647</td>\n",
       "      <td>Pacific</td>\n",
       "      <td>Av</td>\n",
       "      <td>NaN</td>\n",
       "      <td>...</td>\n",
       "      <td>1.0</td>\n",
       "      <td>constr type 1</td>\n",
       "      <td>1.0</td>\n",
       "      <td>constr type 1</td>\n",
       "      <td>NaN</td>\n",
       "      <td>3.0</td>\n",
       "      <td>Russian Hill</td>\n",
       "      <td>94109.0</td>\n",
       "      <td>(37.7946573324287, -122.42232562979227)</td>\n",
       "      <td>1424856504716</td>\n",
       "    </tr>\n",
       "    <tr>\n",
       "      <th>3</th>\n",
       "      <td>201611072166</td>\n",
       "      <td>8</td>\n",
       "      <td>otc alterations permit</td>\n",
       "      <td>11/07/2016</td>\n",
       "      <td>0156</td>\n",
       "      <td>011</td>\n",
       "      <td>1230</td>\n",
       "      <td>Pacific</td>\n",
       "      <td>Av</td>\n",
       "      <td>0.0</td>\n",
       "      <td>...</td>\n",
       "      <td>5.0</td>\n",
       "      <td>wood frame (5)</td>\n",
       "      <td>5.0</td>\n",
       "      <td>wood frame (5)</td>\n",
       "      <td>NaN</td>\n",
       "      <td>3.0</td>\n",
       "      <td>Nob Hill</td>\n",
       "      <td>94109.0</td>\n",
       "      <td>(37.79595867909168, -122.41557405519474)</td>\n",
       "      <td>1443574295566</td>\n",
       "    </tr>\n",
       "    <tr>\n",
       "      <th>4</th>\n",
       "      <td>201611283529</td>\n",
       "      <td>6</td>\n",
       "      <td>demolitions</td>\n",
       "      <td>11/28/2016</td>\n",
       "      <td>0342</td>\n",
       "      <td>001</td>\n",
       "      <td>950</td>\n",
       "      <td>Market</td>\n",
       "      <td>St</td>\n",
       "      <td>NaN</td>\n",
       "      <td>...</td>\n",
       "      <td>3.0</td>\n",
       "      <td>constr type 3</td>\n",
       "      <td>NaN</td>\n",
       "      <td>NaN</td>\n",
       "      <td>NaN</td>\n",
       "      <td>6.0</td>\n",
       "      <td>Tenderloin</td>\n",
       "      <td>94102.0</td>\n",
       "      <td>(37.78315261897309, -122.40950883997789)</td>\n",
       "      <td>144548169992</td>\n",
       "    </tr>\n",
       "    <tr>\n",
       "      <th>...</th>\n",
       "      <td>...</td>\n",
       "      <td>...</td>\n",
       "      <td>...</td>\n",
       "      <td>...</td>\n",
       "      <td>...</td>\n",
       "      <td>...</td>\n",
       "      <td>...</td>\n",
       "      <td>...</td>\n",
       "      <td>...</td>\n",
       "      <td>...</td>\n",
       "      <td>...</td>\n",
       "      <td>...</td>\n",
       "      <td>...</td>\n",
       "      <td>...</td>\n",
       "      <td>...</td>\n",
       "      <td>...</td>\n",
       "      <td>...</td>\n",
       "      <td>...</td>\n",
       "      <td>...</td>\n",
       "      <td>...</td>\n",
       "      <td>...</td>\n",
       "    </tr>\n",
       "    <tr>\n",
       "      <th>198895</th>\n",
       "      <td>M862628</td>\n",
       "      <td>8</td>\n",
       "      <td>otc alterations permit</td>\n",
       "      <td>12/05/2017</td>\n",
       "      <td>0113</td>\n",
       "      <td>017A</td>\n",
       "      <td>1228</td>\n",
       "      <td>Montgomery</td>\n",
       "      <td>St</td>\n",
       "      <td>NaN</td>\n",
       "      <td>...</td>\n",
       "      <td>NaN</td>\n",
       "      <td>NaN</td>\n",
       "      <td>NaN</td>\n",
       "      <td>NaN</td>\n",
       "      <td>NaN</td>\n",
       "      <td>NaN</td>\n",
       "      <td>NaN</td>\n",
       "      <td>NaN</td>\n",
       "      <td>NaN</td>\n",
       "      <td>1489337276729</td>\n",
       "    </tr>\n",
       "    <tr>\n",
       "      <th>198896</th>\n",
       "      <td>201712055595</td>\n",
       "      <td>8</td>\n",
       "      <td>otc alterations permit</td>\n",
       "      <td>12/05/2017</td>\n",
       "      <td>0271</td>\n",
       "      <td>014</td>\n",
       "      <td>580</td>\n",
       "      <td>Bush</td>\n",
       "      <td>St</td>\n",
       "      <td>NaN</td>\n",
       "      <td>...</td>\n",
       "      <td>5.0</td>\n",
       "      <td>wood frame (5)</td>\n",
       "      <td>5.0</td>\n",
       "      <td>wood frame (5)</td>\n",
       "      <td>NaN</td>\n",
       "      <td>NaN</td>\n",
       "      <td>NaN</td>\n",
       "      <td>NaN</td>\n",
       "      <td>NaN</td>\n",
       "      <td>1489462354993</td>\n",
       "    </tr>\n",
       "    <tr>\n",
       "      <th>198897</th>\n",
       "      <td>M863507</td>\n",
       "      <td>8</td>\n",
       "      <td>otc alterations permit</td>\n",
       "      <td>12/06/2017</td>\n",
       "      <td>4318</td>\n",
       "      <td>019</td>\n",
       "      <td>1568</td>\n",
       "      <td>Indiana</td>\n",
       "      <td>St</td>\n",
       "      <td>NaN</td>\n",
       "      <td>...</td>\n",
       "      <td>NaN</td>\n",
       "      <td>NaN</td>\n",
       "      <td>NaN</td>\n",
       "      <td>NaN</td>\n",
       "      <td>NaN</td>\n",
       "      <td>NaN</td>\n",
       "      <td>NaN</td>\n",
       "      <td>NaN</td>\n",
       "      <td>NaN</td>\n",
       "      <td>1489539379952</td>\n",
       "    </tr>\n",
       "    <tr>\n",
       "      <th>198898</th>\n",
       "      <td>M863747</td>\n",
       "      <td>8</td>\n",
       "      <td>otc alterations permit</td>\n",
       "      <td>12/06/2017</td>\n",
       "      <td>0298</td>\n",
       "      <td>029</td>\n",
       "      <td>795</td>\n",
       "      <td>Sutter</td>\n",
       "      <td>St</td>\n",
       "      <td>NaN</td>\n",
       "      <td>...</td>\n",
       "      <td>NaN</td>\n",
       "      <td>NaN</td>\n",
       "      <td>NaN</td>\n",
       "      <td>NaN</td>\n",
       "      <td>NaN</td>\n",
       "      <td>NaN</td>\n",
       "      <td>NaN</td>\n",
       "      <td>NaN</td>\n",
       "      <td>NaN</td>\n",
       "      <td>1489608233656</td>\n",
       "    </tr>\n",
       "    <tr>\n",
       "      <th>198899</th>\n",
       "      <td>M864287</td>\n",
       "      <td>8</td>\n",
       "      <td>otc alterations permit</td>\n",
       "      <td>12/07/2017</td>\n",
       "      <td>0160</td>\n",
       "      <td>006</td>\n",
       "      <td>838</td>\n",
       "      <td>Pacific</td>\n",
       "      <td>Av</td>\n",
       "      <td>NaN</td>\n",
       "      <td>...</td>\n",
       "      <td>NaN</td>\n",
       "      <td>NaN</td>\n",
       "      <td>NaN</td>\n",
       "      <td>NaN</td>\n",
       "      <td>NaN</td>\n",
       "      <td>NaN</td>\n",
       "      <td>NaN</td>\n",
       "      <td>NaN</td>\n",
       "      <td>NaN</td>\n",
       "      <td>1489796283803</td>\n",
       "    </tr>\n",
       "  </tbody>\n",
       "</table>\n",
       "<p>198900 rows × 42 columns</p>\n",
       "</div>"
      ],
      "text/plain": [
       "       Permit Number  Permit Type            Permit Type Definition  \\\n",
       "0       201505065519            4                      sign - erect   \n",
       "1       201604195146            4                      sign - erect   \n",
       "2       201605278609            3  additions alterations or repairs   \n",
       "3       201611072166            8            otc alterations permit   \n",
       "4       201611283529            6                       demolitions   \n",
       "...              ...          ...                               ...   \n",
       "198895       M862628            8            otc alterations permit   \n",
       "198896  201712055595            8            otc alterations permit   \n",
       "198897       M863507            8            otc alterations permit   \n",
       "198898       M863747            8            otc alterations permit   \n",
       "198899       M864287            8            otc alterations permit   \n",
       "\n",
       "       Permit Creation Date Block   Lot  Street Number Street Name  \\\n",
       "0                05/06/2015  0326   023            140       Ellis   \n",
       "1                04/19/2016  0306   007            440       Geary   \n",
       "2                05/27/2016  0595   203           1647     Pacific   \n",
       "3                11/07/2016  0156   011           1230     Pacific   \n",
       "4                11/28/2016  0342   001            950      Market   \n",
       "...                     ...   ...   ...            ...         ...   \n",
       "198895           12/05/2017  0113  017A           1228  Montgomery   \n",
       "198896           12/05/2017  0271   014            580        Bush   \n",
       "198897           12/06/2017  4318   019           1568     Indiana   \n",
       "198898           12/06/2017  0298   029            795      Sutter   \n",
       "198899           12/07/2017  0160   006            838     Pacific   \n",
       "\n",
       "       Street Suffix  Unit  ... Existing Construction Type  \\\n",
       "0                 St   NaN  ...                        3.0   \n",
       "1                 St   0.0  ...                        3.0   \n",
       "2                 Av   NaN  ...                        1.0   \n",
       "3                 Av   0.0  ...                        5.0   \n",
       "4                 St   NaN  ...                        3.0   \n",
       "...              ...   ...  ...                        ...   \n",
       "198895            St   NaN  ...                        NaN   \n",
       "198896            St   NaN  ...                        5.0   \n",
       "198897            St   NaN  ...                        NaN   \n",
       "198898            St   NaN  ...                        NaN   \n",
       "198899            Av   NaN  ...                        NaN   \n",
       "\n",
       "       Existing Construction Type Description Proposed Construction Type  \\\n",
       "0                               constr type 3                        NaN   \n",
       "1                               constr type 3                        NaN   \n",
       "2                               constr type 1                        1.0   \n",
       "3                              wood frame (5)                        5.0   \n",
       "4                               constr type 3                        NaN   \n",
       "...                                       ...                        ...   \n",
       "198895                                    NaN                        NaN   \n",
       "198896                         wood frame (5)                        5.0   \n",
       "198897                                    NaN                        NaN   \n",
       "198898                                    NaN                        NaN   \n",
       "198899                                    NaN                        NaN   \n",
       "\n",
       "       Proposed Construction Type Description Site Permit Supervisor District  \\\n",
       "0                                         NaN         NaN                 3.0   \n",
       "1                                         NaN         NaN                 3.0   \n",
       "2                               constr type 1         NaN                 3.0   \n",
       "3                              wood frame (5)         NaN                 3.0   \n",
       "4                                         NaN         NaN                 6.0   \n",
       "...                                       ...         ...                 ...   \n",
       "198895                                    NaN         NaN                 NaN   \n",
       "198896                         wood frame (5)         NaN                 NaN   \n",
       "198897                                    NaN         NaN                 NaN   \n",
       "198898                                    NaN         NaN                 NaN   \n",
       "198899                                    NaN         NaN                 NaN   \n",
       "\n",
       "       Neighborhoods - Analysis Boundaries  Zipcode  \\\n",
       "0                               Tenderloin  94102.0   \n",
       "1                               Tenderloin  94102.0   \n",
       "2                             Russian Hill  94109.0   \n",
       "3                                 Nob Hill  94109.0   \n",
       "4                               Tenderloin  94102.0   \n",
       "...                                    ...      ...   \n",
       "198895                                 NaN      NaN   \n",
       "198896                                 NaN      NaN   \n",
       "198897                                 NaN      NaN   \n",
       "198898                                 NaN      NaN   \n",
       "198899                                 NaN      NaN   \n",
       "\n",
       "                                         Location      Record ID  \n",
       "0       (37.785719256680785, -122.40852313194863)  1380611233945  \n",
       "1        (37.78733980600732, -122.41063199757738)  1420164406718  \n",
       "2         (37.7946573324287, -122.42232562979227)  1424856504716  \n",
       "3        (37.79595867909168, -122.41557405519474)  1443574295566  \n",
       "4        (37.78315261897309, -122.40950883997789)   144548169992  \n",
       "...                                           ...            ...  \n",
       "198895                                        NaN  1489337276729  \n",
       "198896                                        NaN  1489462354993  \n",
       "198897                                        NaN  1489539379952  \n",
       "198898                                        NaN  1489608233656  \n",
       "198899                                        NaN  1489796283803  \n",
       "\n",
       "[198900 rows x 42 columns]"
      ]
     },
     "execution_count": 9,
     "metadata": {},
     "output_type": "execute_result"
    }
   ],
   "source": [
    "sf_permits.drop(\"Street Number Suffix\",axis=1)"
   ]
  },
  {
   "cell_type": "code",
   "execution_count": 10,
   "id": "84c618d9",
   "metadata": {},
   "outputs": [],
   "source": [
    "col_to_drop = [\"Street Number Suffix\",'Unit','Unit Suffix',\"Completed Date\",'Structural Notification','Voluntary Soft-Story Retrofit','Fire Only Permit','TIDF Compliance','Site Permit']\n",
    "data = sf_permits.drop(col_to_drop,axis = 1)"
   ]
  },
  {
   "cell_type": "code",
   "execution_count": 11,
   "id": "f1e432d0",
   "metadata": {},
   "outputs": [
    {
     "data": {
      "text/plain": [
       "(198900, 34)"
      ]
     },
     "execution_count": 11,
     "metadata": {},
     "output_type": "execute_result"
    }
   ],
   "source": [
    "data.shape"
   ]
  },
  {
   "cell_type": "code",
   "execution_count": 12,
   "id": "d69228b6",
   "metadata": {},
   "outputs": [
    {
     "data": {
      "text/plain": [
       "Permit Number                                 0\n",
       "Permit Type                                   0\n",
       "Permit Type Definition                        0\n",
       "Permit Creation Date                          0\n",
       "Block                                         0\n",
       "Lot                                           0\n",
       "Street Number                                 0\n",
       "Street Name                                   0\n",
       "Street Suffix                              2768\n",
       "Description                                 290\n",
       "Current Status                                0\n",
       "Current Status Date                           0\n",
       "Filed Date                                    0\n",
       "Issued Date                               14940\n",
       "First Construction Document Date          14946\n",
       "Number of Existing Stories                42784\n",
       "Number of Proposed Stories                42868\n",
       "Permit Expiration Date                    51880\n",
       "Estimated Cost                            38066\n",
       "Revised Cost                               6066\n",
       "Existing Use                              41114\n",
       "Existing Units                            51538\n",
       "Proposed Use                              42439\n",
       "Proposed Units                            50911\n",
       "Plansets                                  37309\n",
       "Existing Construction Type                43366\n",
       "Existing Construction Type Description    43366\n",
       "Proposed Construction Type                43162\n",
       "Proposed Construction Type Description    43162\n",
       "Supervisor District                        1717\n",
       "Neighborhoods - Analysis Boundaries        1725\n",
       "Zipcode                                    1716\n",
       "Location                                   1700\n",
       "Record ID                                     0\n",
       "dtype: int64"
      ]
     },
     "execution_count": 12,
     "metadata": {},
     "output_type": "execute_result"
    }
   ],
   "source": [
    "data.isnull().sum()"
   ]
  },
  {
   "cell_type": "code",
   "execution_count": 13,
   "id": "6a24d74b",
   "metadata": {},
   "outputs": [
    {
     "data": {
      "text/plain": [
       "array([94102., 94109., 94107., 94122., 94124., 94117., 94114., 94131.,\n",
       "       94115., 94108., 94104., 94123., 94110., 94133., 94121., 94105.,\n",
       "       94103., 94118., 94132., 94112., 94134., 94116., 94127., 94158.,\n",
       "       94130., 94111.,    nan, 94129.])"
      ]
     },
     "execution_count": 13,
     "metadata": {},
     "output_type": "execute_result"
    }
   ],
   "source": [
    "data.Zipcode.unique()"
   ]
  },
  {
   "cell_type": "code",
   "execution_count": 14,
   "id": "d6115cd4",
   "metadata": {},
   "outputs": [],
   "source": [
    "data1 = data.dropna(axis=0)"
   ]
  },
  {
   "cell_type": "code",
   "execution_count": 15,
   "id": "583b54ee",
   "metadata": {},
   "outputs": [
    {
     "data": {
      "text/html": [
       "<div>\n",
       "<style scoped>\n",
       "    .dataframe tbody tr th:only-of-type {\n",
       "        vertical-align: middle;\n",
       "    }\n",
       "\n",
       "    .dataframe tbody tr th {\n",
       "        vertical-align: top;\n",
       "    }\n",
       "\n",
       "    .dataframe thead th {\n",
       "        text-align: right;\n",
       "    }\n",
       "</style>\n",
       "<table border=\"1\" class=\"dataframe\">\n",
       "  <thead>\n",
       "    <tr style=\"text-align: right;\">\n",
       "      <th></th>\n",
       "      <th>Permit Number</th>\n",
       "      <th>Permit Type</th>\n",
       "      <th>Permit Type Definition</th>\n",
       "      <th>Permit Creation Date</th>\n",
       "      <th>Block</th>\n",
       "      <th>Lot</th>\n",
       "      <th>Street Number</th>\n",
       "      <th>Street Name</th>\n",
       "      <th>Street Suffix</th>\n",
       "      <th>Description</th>\n",
       "      <th>...</th>\n",
       "      <th>Plansets</th>\n",
       "      <th>Existing Construction Type</th>\n",
       "      <th>Existing Construction Type Description</th>\n",
       "      <th>Proposed Construction Type</th>\n",
       "      <th>Proposed Construction Type Description</th>\n",
       "      <th>Supervisor District</th>\n",
       "      <th>Neighborhoods - Analysis Boundaries</th>\n",
       "      <th>Zipcode</th>\n",
       "      <th>Location</th>\n",
       "      <th>Record ID</th>\n",
       "    </tr>\n",
       "  </thead>\n",
       "  <tbody>\n",
       "    <tr>\n",
       "      <th>3</th>\n",
       "      <td>201611072166</td>\n",
       "      <td>8</td>\n",
       "      <td>otc alterations permit</td>\n",
       "      <td>11/07/2016</td>\n",
       "      <td>0156</td>\n",
       "      <td>011</td>\n",
       "      <td>1230</td>\n",
       "      <td>Pacific</td>\n",
       "      <td>Av</td>\n",
       "      <td>repair dryrot &amp; stucco at front of bldg.</td>\n",
       "      <td>...</td>\n",
       "      <td>2.0</td>\n",
       "      <td>5.0</td>\n",
       "      <td>wood frame (5)</td>\n",
       "      <td>5.0</td>\n",
       "      <td>wood frame (5)</td>\n",
       "      <td>3.0</td>\n",
       "      <td>Nob Hill</td>\n",
       "      <td>94109.0</td>\n",
       "      <td>(37.79595867909168, -122.41557405519474)</td>\n",
       "      <td>1443574295566</td>\n",
       "    </tr>\n",
       "    <tr>\n",
       "      <th>5</th>\n",
       "      <td>201706149344</td>\n",
       "      <td>8</td>\n",
       "      <td>otc alterations permit</td>\n",
       "      <td>06/14/2017</td>\n",
       "      <td>4105</td>\n",
       "      <td>009</td>\n",
       "      <td>800</td>\n",
       "      <td>Indiana</td>\n",
       "      <td>St</td>\n",
       "      <td>evac maps</td>\n",
       "      <td>...</td>\n",
       "      <td>2.0</td>\n",
       "      <td>1.0</td>\n",
       "      <td>constr type 1</td>\n",
       "      <td>1.0</td>\n",
       "      <td>constr type 1</td>\n",
       "      <td>10.0</td>\n",
       "      <td>Potrero Hill</td>\n",
       "      <td>94107.0</td>\n",
       "      <td>(37.75922331346539, -122.39170402628598)</td>\n",
       "      <td>1466911170855</td>\n",
       "    </tr>\n",
       "    <tr>\n",
       "      <th>6</th>\n",
       "      <td>201706300814</td>\n",
       "      <td>8</td>\n",
       "      <td>otc alterations permit</td>\n",
       "      <td>06/30/2017</td>\n",
       "      <td>1739</td>\n",
       "      <td>020</td>\n",
       "      <td>1291</td>\n",
       "      <td>11th</td>\n",
       "      <td>Av</td>\n",
       "      <td>re-roofing</td>\n",
       "      <td>...</td>\n",
       "      <td>0.0</td>\n",
       "      <td>5.0</td>\n",
       "      <td>wood frame (5)</td>\n",
       "      <td>5.0</td>\n",
       "      <td>wood frame (5)</td>\n",
       "      <td>5.0</td>\n",
       "      <td>Inner Sunset</td>\n",
       "      <td>94122.0</td>\n",
       "      <td>(37.764145640138565, -122.46875112470363)</td>\n",
       "      <td>1468970403692</td>\n",
       "    </tr>\n",
       "    <tr>\n",
       "      <th>24</th>\n",
       "      <td>201708084249</td>\n",
       "      <td>8</td>\n",
       "      <td>otc alterations permit</td>\n",
       "      <td>08/08/2017</td>\n",
       "      <td>0542</td>\n",
       "      <td>039</td>\n",
       "      <td>1</td>\n",
       "      <td>Charlton</td>\n",
       "      <td>Ct</td>\n",
       "      <td>re-roofing</td>\n",
       "      <td>...</td>\n",
       "      <td>0.0</td>\n",
       "      <td>5.0</td>\n",
       "      <td>wood frame (5)</td>\n",
       "      <td>5.0</td>\n",
       "      <td>wood frame (5)</td>\n",
       "      <td>2.0</td>\n",
       "      <td>Marina</td>\n",
       "      <td>94123.0</td>\n",
       "      <td>(37.79739093461306, -122.43127133823367)</td>\n",
       "      <td>1473796372030</td>\n",
       "    </tr>\n",
       "    <tr>\n",
       "      <th>25</th>\n",
       "      <td>201708165014</td>\n",
       "      <td>8</td>\n",
       "      <td>otc alterations permit</td>\n",
       "      <td>08/16/2017</td>\n",
       "      <td>1824</td>\n",
       "      <td>006</td>\n",
       "      <td>1435</td>\n",
       "      <td>29th</td>\n",
       "      <td>Av</td>\n",
       "      <td>re-roofing</td>\n",
       "      <td>...</td>\n",
       "      <td>0.0</td>\n",
       "      <td>5.0</td>\n",
       "      <td>wood frame (5)</td>\n",
       "      <td>5.0</td>\n",
       "      <td>wood frame (5)</td>\n",
       "      <td>4.0</td>\n",
       "      <td>Sunset/Parkside</td>\n",
       "      <td>94122.0</td>\n",
       "      <td>(37.76052279949518, -122.4879889739165)</td>\n",
       "      <td>1474841115935</td>\n",
       "    </tr>\n",
       "  </tbody>\n",
       "</table>\n",
       "<p>5 rows × 34 columns</p>\n",
       "</div>"
      ],
      "text/plain": [
       "   Permit Number  Permit Type  Permit Type Definition Permit Creation Date  \\\n",
       "3   201611072166            8  otc alterations permit           11/07/2016   \n",
       "5   201706149344            8  otc alterations permit           06/14/2017   \n",
       "6   201706300814            8  otc alterations permit           06/30/2017   \n",
       "24  201708084249            8  otc alterations permit           08/08/2017   \n",
       "25  201708165014            8  otc alterations permit           08/16/2017   \n",
       "\n",
       "   Block  Lot  Street Number Street Name Street Suffix  \\\n",
       "3   0156  011           1230     Pacific            Av   \n",
       "5   4105  009            800     Indiana            St   \n",
       "6   1739  020           1291        11th            Av   \n",
       "24  0542  039              1    Charlton            Ct   \n",
       "25  1824  006           1435        29th            Av   \n",
       "\n",
       "                                 Description  ... Plansets  \\\n",
       "3   repair dryrot & stucco at front of bldg.  ...      2.0   \n",
       "5                                  evac maps  ...      2.0   \n",
       "6                                 re-roofing  ...      0.0   \n",
       "24                                re-roofing  ...      0.0   \n",
       "25                                re-roofing  ...      0.0   \n",
       "\n",
       "   Existing Construction Type Existing Construction Type Description  \\\n",
       "3                         5.0                         wood frame (5)   \n",
       "5                         1.0                          constr type 1   \n",
       "6                         5.0                         wood frame (5)   \n",
       "24                        5.0                         wood frame (5)   \n",
       "25                        5.0                         wood frame (5)   \n",
       "\n",
       "   Proposed Construction Type Proposed Construction Type Description  \\\n",
       "3                         5.0                         wood frame (5)   \n",
       "5                         1.0                          constr type 1   \n",
       "6                         5.0                         wood frame (5)   \n",
       "24                        5.0                         wood frame (5)   \n",
       "25                        5.0                         wood frame (5)   \n",
       "\n",
       "    Supervisor District  Neighborhoods - Analysis Boundaries  Zipcode  \\\n",
       "3                   3.0                             Nob Hill  94109.0   \n",
       "5                  10.0                         Potrero Hill  94107.0   \n",
       "6                   5.0                         Inner Sunset  94122.0   \n",
       "24                  2.0                               Marina  94123.0   \n",
       "25                  4.0                      Sunset/Parkside  94122.0   \n",
       "\n",
       "                                     Location      Record ID  \n",
       "3    (37.79595867909168, -122.41557405519474)  1443574295566  \n",
       "5    (37.75922331346539, -122.39170402628598)  1466911170855  \n",
       "6   (37.764145640138565, -122.46875112470363)  1468970403692  \n",
       "24   (37.79739093461306, -122.43127133823367)  1473796372030  \n",
       "25    (37.76052279949518, -122.4879889739165)  1474841115935  \n",
       "\n",
       "[5 rows x 34 columns]"
      ]
     },
     "execution_count": 15,
     "metadata": {},
     "output_type": "execute_result"
    }
   ],
   "source": [
    "data1.head()"
   ]
  },
  {
   "cell_type": "code",
   "execution_count": 17,
   "id": "78b13dba",
   "metadata": {},
   "outputs": [
    {
     "data": {
      "text/plain": [
       "Permit Number                             0\n",
       "Permit Type                               0\n",
       "Permit Type Definition                    0\n",
       "Permit Creation Date                      0\n",
       "Block                                     0\n",
       "Lot                                       0\n",
       "Street Number                             0\n",
       "Street Name                               0\n",
       "Street Suffix                             0\n",
       "Description                               0\n",
       "Current Status                            0\n",
       "Current Status Date                       0\n",
       "Filed Date                                0\n",
       "Issued Date                               0\n",
       "First Construction Document Date          0\n",
       "Number of Existing Stories                0\n",
       "Number of Proposed Stories                0\n",
       "Permit Expiration Date                    0\n",
       "Estimated Cost                            0\n",
       "Revised Cost                              0\n",
       "Existing Use                              0\n",
       "Existing Units                            0\n",
       "Proposed Use                              0\n",
       "Proposed Units                            0\n",
       "Plansets                                  0\n",
       "Existing Construction Type                0\n",
       "Existing Construction Type Description    0\n",
       "Proposed Construction Type                0\n",
       "Proposed Construction Type Description    0\n",
       "Supervisor District                       0\n",
       "Neighborhoods - Analysis Boundaries       0\n",
       "Zipcode                                   0\n",
       "Location                                  0\n",
       "Record ID                                 0\n",
       "dtype: int64"
      ]
     },
     "execution_count": 17,
     "metadata": {},
     "output_type": "execute_result"
    }
   ],
   "source": [
    "data1.isnull().sum()"
   ]
  },
  {
   "cell_type": "markdown",
   "id": "af289323",
   "metadata": {},
   "source": [
    "### Imputation (Filling in missing values with mean)"
   ]
  },
  {
   "cell_type": "code",
   "execution_count": null,
   "id": "12748279",
   "metadata": {},
   "outputs": [],
   "source": [
    "from sklearn.impute import SimpleImputer\n",
    "my_imputer = SimpleImputer()\n",
    "data = my_imputer.fit_transform(data)"
   ]
  },
  {
   "cell_type": "markdown",
   "id": "c988f868",
   "metadata": {},
   "source": [
    "### scaling"
   ]
  },
  {
   "cell_type": "code",
   "execution_count": 22,
   "id": "01811959",
   "metadata": {},
   "outputs": [],
   "source": [
    "import matplotlib.pyplot as plt\n",
    "%matplotlib inline\n",
    "import seaborn as sns\n",
    "from scipy import stats \n",
    "from mlxtend.preprocessing import minmax_scaling"
   ]
  },
  {
   "cell_type": "code",
   "execution_count": 23,
   "id": "3d6908b2",
   "metadata": {},
   "outputs": [
    {
     "data": {
      "text/html": [
       "<div>\n",
       "<style scoped>\n",
       "    .dataframe tbody tr th:only-of-type {\n",
       "        vertical-align: middle;\n",
       "    }\n",
       "\n",
       "    .dataframe tbody tr th {\n",
       "        vertical-align: top;\n",
       "    }\n",
       "\n",
       "    .dataframe thead th {\n",
       "        text-align: right;\n",
       "    }\n",
       "</style>\n",
       "<table border=\"1\" class=\"dataframe\">\n",
       "  <thead>\n",
       "    <tr style=\"text-align: right;\">\n",
       "      <th></th>\n",
       "      <th>ID</th>\n",
       "      <th>name</th>\n",
       "      <th>category</th>\n",
       "      <th>main_category</th>\n",
       "      <th>currency</th>\n",
       "      <th>deadline</th>\n",
       "      <th>goal</th>\n",
       "      <th>launched</th>\n",
       "      <th>pledged</th>\n",
       "      <th>state</th>\n",
       "      <th>backers</th>\n",
       "      <th>country</th>\n",
       "      <th>usd pledged</th>\n",
       "      <th>usd_pledged_real</th>\n",
       "      <th>usd_goal_real</th>\n",
       "    </tr>\n",
       "  </thead>\n",
       "  <tbody>\n",
       "    <tr>\n",
       "      <th>193340</th>\n",
       "      <td>1983862392</td>\n",
       "      <td>Reps4Vets Clothing Company</td>\n",
       "      <td>Apparel</td>\n",
       "      <td>Fashion</td>\n",
       "      <td>USD</td>\n",
       "      <td>2017-10-30</td>\n",
       "      <td>25000.0</td>\n",
       "      <td>2017-09-30 22:35:17</td>\n",
       "      <td>93.00</td>\n",
       "      <td>failed</td>\n",
       "      <td>6</td>\n",
       "      <td>US</td>\n",
       "      <td>53.00</td>\n",
       "      <td>93.00</td>\n",
       "      <td>25000.00</td>\n",
       "    </tr>\n",
       "    <tr>\n",
       "      <th>209793</th>\n",
       "      <td>2069242772</td>\n",
       "      <td>THE RACKET BOYS: A feature film...</td>\n",
       "      <td>Narrative Film</td>\n",
       "      <td>Film &amp; Video</td>\n",
       "      <td>USD</td>\n",
       "      <td>2011-01-01</td>\n",
       "      <td>2000.0</td>\n",
       "      <td>2010-11-24 11:17:57</td>\n",
       "      <td>5000.01</td>\n",
       "      <td>successful</td>\n",
       "      <td>63</td>\n",
       "      <td>US</td>\n",
       "      <td>5000.01</td>\n",
       "      <td>5000.01</td>\n",
       "      <td>2000.00</td>\n",
       "    </tr>\n",
       "    <tr>\n",
       "      <th>257379</th>\n",
       "      <td>378753985</td>\n",
       "      <td>Electronic Painting , retrolight diffuser ,aud...</td>\n",
       "      <td>Technology</td>\n",
       "      <td>Technology</td>\n",
       "      <td>CAD</td>\n",
       "      <td>2017-04-10</td>\n",
       "      <td>20000.0</td>\n",
       "      <td>2017-02-09 00:13:11</td>\n",
       "      <td>100.00</td>\n",
       "      <td>failed</td>\n",
       "      <td>1</td>\n",
       "      <td>CA</td>\n",
       "      <td>0.00</td>\n",
       "      <td>75.56</td>\n",
       "      <td>15111.45</td>\n",
       "    </tr>\n",
       "  </tbody>\n",
       "</table>\n",
       "</div>"
      ],
      "text/plain": [
       "                ID                                               name  \\\n",
       "193340  1983862392                         Reps4Vets Clothing Company   \n",
       "209793  2069242772                 THE RACKET BOYS: A feature film...   \n",
       "257379   378753985  Electronic Painting , retrolight diffuser ,aud...   \n",
       "\n",
       "              category main_category currency    deadline     goal  \\\n",
       "193340         Apparel       Fashion      USD  2017-10-30  25000.0   \n",
       "209793  Narrative Film  Film & Video      USD  2011-01-01   2000.0   \n",
       "257379      Technology    Technology      CAD  2017-04-10  20000.0   \n",
       "\n",
       "                   launched  pledged       state  backers country  \\\n",
       "193340  2017-09-30 22:35:17    93.00      failed        6      US   \n",
       "209793  2010-11-24 11:17:57  5000.01  successful       63      US   \n",
       "257379  2017-02-09 00:13:11   100.00      failed        1      CA   \n",
       "\n",
       "        usd pledged  usd_pledged_real  usd_goal_real  \n",
       "193340        53.00             93.00       25000.00  \n",
       "209793      5000.01           5000.01        2000.00  \n",
       "257379         0.00             75.56       15111.45  "
      ]
     },
     "execution_count": 23,
     "metadata": {},
     "output_type": "execute_result"
    }
   ],
   "source": [
    "ks = pd.read_csv(\"kickstarter.csv\")\n",
    "ks.sample(3)"
   ]
  },
  {
   "cell_type": "code",
   "execution_count": 24,
   "id": "8e55dfe5",
   "metadata": {},
   "outputs": [
    {
     "data": {
      "text/plain": [
       "Text(0.5, 1.0, 'Scaled data')"
      ]
     },
     "execution_count": 24,
     "metadata": {},
     "output_type": "execute_result"
    },
    {
     "data": {
      "image/png": "[encoded data removed]",
      "text/plain": [
       "<Figure size 432x288 with 2 Axes>"
      ]
     },
     "metadata": {
      "needs_background": "light"
     },
     "output_type": "display_data"
    }
   ],
   "source": [
    "goal = ks.goal\n",
    "scaled_data = minmax_scaling(goal, columns = [0])\n",
    "fig, ax=plt.subplots(1,2)\n",
    "sns.distplot(goal,ax = ax[0])\n",
    "ax[0].set_title(\"Original Data\")\n",
    "sns.distplot(scaled_data,ax=ax[1])\n",
    "ax[1].set_title(\"Scaled data\")"
   ]
  },
  {
   "cell_type": "markdown",
   "id": "b6717f32",
   "metadata": {},
   "source": [
    "### Normalization"
   ]
  },
  {
   "cell_type": "code",
   "execution_count": 25,
   "id": "ebdd54dd",
   "metadata": {},
   "outputs": [
    {
     "data": {
      "text/plain": [
       "Text(0.5, 1.0, 'Normalized data')"
      ]
     },
     "execution_count": 25,
     "metadata": {},
     "output_type": "execute_result"
    },
    {
     "data": {
      "image/png": "[encoded data removed]",
      "text/plain": [
       "<Figure size 432x288 with 2 Axes>"
      ]
     },
     "metadata": {
      "needs_background": "light"
     },
     "output_type": "display_data"
    }
   ],
   "source": [
    "index = ks.pledged>0\n",
    "pledges = ks.pledged.loc[index]\n",
    "normalized_pledges = stats.boxcox(pledges)[0]\n",
    "fig, ax=plt.subplots(1,2)\n",
    "sns.distplot(pledges, ax=ax[0])\n",
    "ax[0].set_title(\"Original Data\")\n",
    "sns.distplot(normalized_pledges, ax=ax[1])\n",
    "ax[1].set_title(\"Normalized data\")"
   ]
  },
  {
   "cell_type": "markdown",
   "id": "9185b027",
   "metadata": {},
   "source": [
    "### Convert our date columns to datetime"
   ]
  },
  {
   "cell_type": "code",
   "execution_count": 26,
   "id": "dce8ce88",
   "metadata": {},
   "outputs": [],
   "source": [
    "import datetime"
   ]
  },
  {
   "cell_type": "code",
   "execution_count": 71,
   "id": "3fed8d27",
   "metadata": {},
   "outputs": [
    {
     "data": {
      "text/html": [
       "<div>\n",
       "<style scoped>\n",
       "    .dataframe tbody tr th:only-of-type {\n",
       "        vertical-align: middle;\n",
       "    }\n",
       "\n",
       "    .dataframe tbody tr th {\n",
       "        vertical-align: top;\n",
       "    }\n",
       "\n",
       "    .dataframe thead th {\n",
       "        text-align: right;\n",
       "    }\n",
       "</style>\n",
       "<table border=\"1\" class=\"dataframe\">\n",
       "  <thead>\n",
       "    <tr style=\"text-align: right;\">\n",
       "      <th></th>\n",
       "      <th>Date</th>\n",
       "      <th>Time</th>\n",
       "      <th>Latitude</th>\n",
       "      <th>Longitude</th>\n",
       "      <th>Type</th>\n",
       "      <th>Depth</th>\n",
       "      <th>Depth Error</th>\n",
       "      <th>Depth Seismic Stations</th>\n",
       "      <th>Magnitude</th>\n",
       "      <th>Magnitude Type</th>\n",
       "      <th>...</th>\n",
       "      <th>Magnitude Seismic Stations</th>\n",
       "      <th>Azimuthal Gap</th>\n",
       "      <th>Horizontal Distance</th>\n",
       "      <th>Horizontal Error</th>\n",
       "      <th>Root Mean Square</th>\n",
       "      <th>ID</th>\n",
       "      <th>Source</th>\n",
       "      <th>Location Source</th>\n",
       "      <th>Magnitude Source</th>\n",
       "      <th>Status</th>\n",
       "    </tr>\n",
       "  </thead>\n",
       "  <tbody>\n",
       "    <tr>\n",
       "      <th>7230</th>\n",
       "      <td>10/19/1984</td>\n",
       "      <td>17:45:03</td>\n",
       "      <td>1.437</td>\n",
       "      <td>125.713</td>\n",
       "      <td>Earthquake</td>\n",
       "      <td>75.7</td>\n",
       "      <td>2.3</td>\n",
       "      <td>NaN</td>\n",
       "      <td>5.8</td>\n",
       "      <td>MW</td>\n",
       "      <td>...</td>\n",
       "      <td>NaN</td>\n",
       "      <td>NaN</td>\n",
       "      <td>NaN</td>\n",
       "      <td>NaN</td>\n",
       "      <td>1.1</td>\n",
       "      <td>USP00028AC</td>\n",
       "      <td>US</td>\n",
       "      <td>US</td>\n",
       "      <td>HRV</td>\n",
       "      <td>Reviewed</td>\n",
       "    </tr>\n",
       "    <tr>\n",
       "      <th>255</th>\n",
       "      <td>09/12/1965</td>\n",
       "      <td>22:02:35</td>\n",
       "      <td>-6.416</td>\n",
       "      <td>70.726</td>\n",
       "      <td>Earthquake</td>\n",
       "      <td>25.0</td>\n",
       "      <td>NaN</td>\n",
       "      <td>NaN</td>\n",
       "      <td>6.3</td>\n",
       "      <td>MW</td>\n",
       "      <td>...</td>\n",
       "      <td>NaN</td>\n",
       "      <td>NaN</td>\n",
       "      <td>NaN</td>\n",
       "      <td>NaN</td>\n",
       "      <td>NaN</td>\n",
       "      <td>ISCGEM853797</td>\n",
       "      <td>ISCGEM</td>\n",
       "      <td>ISCGEM</td>\n",
       "      <td>ISCGEM</td>\n",
       "      <td>Automatic</td>\n",
       "    </tr>\n",
       "    <tr>\n",
       "      <th>7205</th>\n",
       "      <td>09/28/1984</td>\n",
       "      <td>03:03:47</td>\n",
       "      <td>-21.510</td>\n",
       "      <td>-177.796</td>\n",
       "      <td>Earthquake</td>\n",
       "      <td>363.9</td>\n",
       "      <td>NaN</td>\n",
       "      <td>NaN</td>\n",
       "      <td>6.0</td>\n",
       "      <td>MW</td>\n",
       "      <td>...</td>\n",
       "      <td>NaN</td>\n",
       "      <td>NaN</td>\n",
       "      <td>NaN</td>\n",
       "      <td>NaN</td>\n",
       "      <td>1.0</td>\n",
       "      <td>USP00027RX</td>\n",
       "      <td>US</td>\n",
       "      <td>US</td>\n",
       "      <td>HRV</td>\n",
       "      <td>Reviewed</td>\n",
       "    </tr>\n",
       "  </tbody>\n",
       "</table>\n",
       "<p>3 rows × 21 columns</p>\n",
       "</div>"
      ],
      "text/plain": [
       "            Date      Time  Latitude  Longitude        Type  Depth  \\\n",
       "7230  10/19/1984  17:45:03     1.437    125.713  Earthquake   75.7   \n",
       "255   09/12/1965  22:02:35    -6.416     70.726  Earthquake   25.0   \n",
       "7205  09/28/1984  03:03:47   -21.510   -177.796  Earthquake  363.9   \n",
       "\n",
       "      Depth Error  Depth Seismic Stations  Magnitude Magnitude Type  ...  \\\n",
       "7230          2.3                     NaN        5.8             MW  ...   \n",
       "255           NaN                     NaN        6.3             MW  ...   \n",
       "7205          NaN                     NaN        6.0             MW  ...   \n",
       "\n",
       "      Magnitude Seismic Stations  Azimuthal Gap  Horizontal Distance  \\\n",
       "7230                         NaN            NaN                  NaN   \n",
       "255                          NaN            NaN                  NaN   \n",
       "7205                         NaN            NaN                  NaN   \n",
       "\n",
       "      Horizontal Error  Root Mean Square            ID  Source  \\\n",
       "7230               NaN               1.1    USP00028AC      US   \n",
       "255                NaN               NaN  ISCGEM853797  ISCGEM   \n",
       "7205               NaN               1.0    USP00027RX      US   \n",
       "\n",
       "     Location Source Magnitude Source     Status  \n",
       "7230              US              HRV   Reviewed  \n",
       "255           ISCGEM           ISCGEM  Automatic  \n",
       "7205              US              HRV   Reviewed  \n",
       "\n",
       "[3 rows x 21 columns]"
      ]
     },
     "execution_count": 71,
     "metadata": {},
     "output_type": "execute_result"
    }
   ],
   "source": [
    "earthquake = pd.read_csv(\"earthquake_database.csv\")\n",
    "earthquake.sample(3)"
   ]
  },
  {
   "cell_type": "code",
   "execution_count": 50,
   "id": "409b7bb6",
   "metadata": {},
   "outputs": [
    {
     "data": {
      "text/plain": [
       "(23412, 21)"
      ]
     },
     "execution_count": 50,
     "metadata": {},
     "output_type": "execute_result"
    }
   ],
   "source": [
    "earthquake.shape"
   ]
  },
  {
   "cell_type": "code",
   "execution_count": 33,
   "id": "f42e1246",
   "metadata": {},
   "outputs": [
    {
     "data": {
      "text/plain": [
       "dtype('O')"
      ]
     },
     "execution_count": 33,
     "metadata": {},
     "output_type": "execute_result"
    }
   ],
   "source": [
    "earthquake.Date.dtype"
   ]
  },
  {
   "cell_type": "code",
   "execution_count": 74,
   "id": "e52203b6",
   "metadata": {},
   "outputs": [
    {
     "data": {
      "text/plain": [
       "3524     1975-07-08 00:00:00\n",
       "1851     1971-02-12 00:00:00\n",
       "18017    2006-08-30 00:00:00\n",
       "Name: Date_parsed, dtype: object"
      ]
     },
     "execution_count": 74,
     "metadata": {},
     "output_type": "execute_result"
    }
   ],
   "source": [
    "earthquake[\"Date_parsed\"] = pd.to_datetime(earthquake['Date'],infer_datetime_format=True)\n",
    "earthquake[\"Date_parsed\"].sample(3)"
   ]
  },
  {
   "cell_type": "code",
   "execution_count": 75,
   "id": "9cfd9b2e",
   "metadata": {},
   "outputs": [
    {
     "data": {
      "text/plain": [
       "18224   2007-01-20\n",
       "5847    1981-04-05\n",
       "1248    1969-05-15\n",
       "Name: Date, dtype: datetime64[ns]"
      ]
     },
     "execution_count": 75,
     "metadata": {},
     "output_type": "execute_result"
    }
   ],
   "source": [
    "earthquake[\"Date\"] = pd.to_datetime(earthquake['Date'],format = \"%m/%d/%Y\",errors = 'coerce')\n",
    "earthquake[\"Date\"].sample(3)"
   ]
  },
  {
   "cell_type": "code",
   "execution_count": 81,
   "id": "76d6cfd1",
   "metadata": {},
   "outputs": [
    {
     "data": {
      "text/plain": [
       "Int64Index([3378, 7512, 20650], dtype='int64')"
      ]
     },
     "execution_count": 81,
     "metadata": {},
     "output_type": "execute_result"
    }
   ],
   "source": [
    "index= earthquake[earthquake[\"Date\"].isna()].index\n",
    "index"
   ]
  },
  {
   "cell_type": "code",
   "execution_count": 87,
   "id": "be16d4ce",
   "metadata": {},
   "outputs": [
    {
     "data": {
      "text/plain": [
       "(23409, 22)"
      ]
     },
     "execution_count": 87,
     "metadata": {},
     "output_type": "execute_result"
    }
   ],
   "source": [
    "E = earthquake.drop(index,axis = 0)\n",
    "E.shape"
   ]
  },
  {
   "cell_type": "code",
   "execution_count": 88,
   "id": "132f525b",
   "metadata": {},
   "outputs": [
    {
     "data": {
      "text/plain": [
       "0"
      ]
     },
     "execution_count": 88,
     "metadata": {},
     "output_type": "execute_result"
    }
   ],
   "source": [
    "E.Date.isna().sum()"
   ]
  },
  {
   "cell_type": "code",
   "execution_count": 90,
   "id": "2bb4efe8",
   "metadata": {},
   "outputs": [
    {
     "data": {
      "text/plain": [
       "array([ 2,  4,  5,  8,  9, 10, 12, 15, 16, 17, 24, 29,  1,  6,  7, 18, 21,\n",
       "       23, 25, 26, 27,  3, 13, 14, 19, 22, 28, 30, 31, 11, 20],\n",
       "      dtype=int64)"
      ]
     },
     "execution_count": 90,
     "metadata": {},
     "output_type": "execute_result"
    }
   ],
   "source": [
    "day = E.Date.dt.day\n",
    "day.unique()"
   ]
  },
  {
   "cell_type": "code",
   "execution_count": 94,
   "id": "a077053e",
   "metadata": {},
   "outputs": [
    {
     "data": {
      "text/plain": [
       "<AxesSubplot:xlabel='Date'>"
      ]
     },
     "execution_count": 94,
     "metadata": {},
     "output_type": "execute_result"
    },
    {
     "data": {
      "image/png": "[encoded data removed]",
      "text/plain": [
       "<Figure size 432x288 with 1 Axes>"
      ]
     },
     "metadata": {
      "needs_background": "light"
     },
     "output_type": "display_data"
    }
   ],
   "source": [
    "sns.distplot(day,kde=False, bins=31)"
   ]
  },
  {
   "cell_type": "markdown",
   "id": "7d6cd3ea",
   "metadata": {},
   "source": [
    "### Encoding"
   ]
  },
  {
   "cell_type": "code",
   "execution_count": 96,
   "id": "af598835",
   "metadata": {},
   "outputs": [],
   "source": [
    "import chardet"
   ]
  },
  {
   "cell_type": "code",
   "execution_count": 109,
   "id": "5b38f553",
   "metadata": {},
   "outputs": [
    {
     "name": "stdout",
     "output_type": "stream",
     "text": [
      "$नमस्ते#\n"
     ]
    }
   ],
   "source": [
    "before = \"$नमस्ते#\"\n",
    "after = before.encode(\"utf-8\", errors = \"replace\")\n",
    "print(after.decode(\"utf-8\"))"
   ]
  },
  {
   "cell_type": "code",
   "execution_count": 118,
   "id": "d0431af5",
   "metadata": {},
   "outputs": [
    {
     "data": {
      "text/html": [
       "<div>\n",
       "<style scoped>\n",
       "    .dataframe tbody tr th:only-of-type {\n",
       "        vertical-align: middle;\n",
       "    }\n",
       "\n",
       "    .dataframe tbody tr th {\n",
       "        vertical-align: top;\n",
       "    }\n",
       "\n",
       "    .dataframe thead th {\n",
       "        text-align: right;\n",
       "    }\n",
       "</style>\n",
       "<table border=\"1\" class=\"dataframe\">\n",
       "  <thead>\n",
       "    <tr style=\"text-align: right;\">\n",
       "      <th></th>\n",
       "      <th>id</th>\n",
       "      <th>name</th>\n",
       "      <th>date</th>\n",
       "      <th>manner_of_death</th>\n",
       "      <th>armed</th>\n",
       "      <th>age</th>\n",
       "      <th>gender</th>\n",
       "      <th>race</th>\n",
       "      <th>city</th>\n",
       "      <th>state</th>\n",
       "      <th>signs_of_mental_illness</th>\n",
       "      <th>threat_level</th>\n",
       "      <th>flee</th>\n",
       "      <th>body_camera</th>\n",
       "    </tr>\n",
       "  </thead>\n",
       "  <tbody>\n",
       "    <tr>\n",
       "      <th>0</th>\n",
       "      <td>3</td>\n",
       "      <td>Tim Elliot</td>\n",
       "      <td>02/01/15</td>\n",
       "      <td>shot</td>\n",
       "      <td>gun</td>\n",
       "      <td>53.0</td>\n",
       "      <td>M</td>\n",
       "      <td>A</td>\n",
       "      <td>Shelton</td>\n",
       "      <td>WA</td>\n",
       "      <td>True</td>\n",
       "      <td>attack</td>\n",
       "      <td>Not fleeing</td>\n",
       "      <td>False</td>\n",
       "    </tr>\n",
       "    <tr>\n",
       "      <th>1</th>\n",
       "      <td>4</td>\n",
       "      <td>Lewis Lee Lembke</td>\n",
       "      <td>02/01/15</td>\n",
       "      <td>shot</td>\n",
       "      <td>gun</td>\n",
       "      <td>47.0</td>\n",
       "      <td>M</td>\n",
       "      <td>W</td>\n",
       "      <td>Aloha</td>\n",
       "      <td>OR</td>\n",
       "      <td>False</td>\n",
       "      <td>attack</td>\n",
       "      <td>Not fleeing</td>\n",
       "      <td>False</td>\n",
       "    </tr>\n",
       "    <tr>\n",
       "      <th>2</th>\n",
       "      <td>5</td>\n",
       "      <td>John Paul Quintero</td>\n",
       "      <td>03/01/15</td>\n",
       "      <td>shot and Tasered</td>\n",
       "      <td>unarmed</td>\n",
       "      <td>23.0</td>\n",
       "      <td>M</td>\n",
       "      <td>H</td>\n",
       "      <td>Wichita</td>\n",
       "      <td>KS</td>\n",
       "      <td>False</td>\n",
       "      <td>other</td>\n",
       "      <td>Not fleeing</td>\n",
       "      <td>False</td>\n",
       "    </tr>\n",
       "    <tr>\n",
       "      <th>3</th>\n",
       "      <td>8</td>\n",
       "      <td>Matthew Hoffman</td>\n",
       "      <td>04/01/15</td>\n",
       "      <td>shot</td>\n",
       "      <td>toy weapon</td>\n",
       "      <td>32.0</td>\n",
       "      <td>M</td>\n",
       "      <td>W</td>\n",
       "      <td>San Francisco</td>\n",
       "      <td>CA</td>\n",
       "      <td>True</td>\n",
       "      <td>attack</td>\n",
       "      <td>Not fleeing</td>\n",
       "      <td>False</td>\n",
       "    </tr>\n",
       "    <tr>\n",
       "      <th>4</th>\n",
       "      <td>9</td>\n",
       "      <td>Michael Rodriguez</td>\n",
       "      <td>04/01/15</td>\n",
       "      <td>shot</td>\n",
       "      <td>nail gun</td>\n",
       "      <td>39.0</td>\n",
       "      <td>M</td>\n",
       "      <td>H</td>\n",
       "      <td>Evans</td>\n",
       "      <td>CO</td>\n",
       "      <td>False</td>\n",
       "      <td>attack</td>\n",
       "      <td>Not fleeing</td>\n",
       "      <td>False</td>\n",
       "    </tr>\n",
       "  </tbody>\n",
       "</table>\n",
       "</div>"
      ],
      "text/plain": [
       "   id                name      date   manner_of_death       armed   age  \\\n",
       "0   3          Tim Elliot  02/01/15              shot         gun  53.0   \n",
       "1   4    Lewis Lee Lembke  02/01/15              shot         gun  47.0   \n",
       "2   5  John Paul Quintero  03/01/15  shot and Tasered     unarmed  23.0   \n",
       "3   8     Matthew Hoffman  04/01/15              shot  toy weapon  32.0   \n",
       "4   9   Michael Rodriguez  04/01/15              shot    nail gun  39.0   \n",
       "\n",
       "  gender race           city state  signs_of_mental_illness threat_level  \\\n",
       "0      M    A        Shelton    WA                     True       attack   \n",
       "1      M    W          Aloha    OR                    False       attack   \n",
       "2      M    H        Wichita    KS                    False        other   \n",
       "3      M    W  San Francisco    CA                     True       attack   \n",
       "4      M    H          Evans    CO                    False       attack   \n",
       "\n",
       "          flee  body_camera  \n",
       "0  Not fleeing        False  \n",
       "1  Not fleeing        False  \n",
       "2  Not fleeing        False  \n",
       "3  Not fleeing        False  \n",
       "4  Not fleeing        False  "
      ]
     },
     "execution_count": 118,
     "metadata": {},
     "output_type": "execute_result"
    }
   ],
   "source": [
    "df = pd.read_csv(\"PoliceKillingsUS.csv\",encoding ='Windows-1252')\n",
    "df.head()"
   ]
  },
  {
   "cell_type": "code",
   "execution_count": 119,
   "id": "0efa77e6",
   "metadata": {},
   "outputs": [
    {
     "data": {
      "text/plain": [
       "{'encoding': 'Windows-1252', 'confidence': 0.73, 'language': ''}"
      ]
     },
     "execution_count": 119,
     "metadata": {},
     "output_type": "execute_result"
    }
   ],
   "source": [
    "with open(\"PoliceKillingsUS.csv\",'rb') as f:\n",
    "    result = chardet.detect(f.read(1000000))\n",
    "result"
   ]
  },
  {
   "cell_type": "code",
   "execution_count": 121,
   "id": "437a4920",
   "metadata": {},
   "outputs": [],
   "source": [
    "df.to_csv(\"PoliceKillingsUS-utf8.csv\")"
   ]
  },
  {
   "cell_type": "code",
   "execution_count": 127,
   "id": "14c8bf30",
   "metadata": {},
   "outputs": [
    {
     "data": {
      "text/html": [
       "<div>\n",
       "<style scoped>\n",
       "    .dataframe tbody tr th:only-of-type {\n",
       "        vertical-align: middle;\n",
       "    }\n",
       "\n",
       "    .dataframe tbody tr th {\n",
       "        vertical-align: top;\n",
       "    }\n",
       "\n",
       "    .dataframe thead th {\n",
       "        text-align: right;\n",
       "    }\n",
       "</style>\n",
       "<table border=\"1\" class=\"dataframe\">\n",
       "  <thead>\n",
       "    <tr style=\"text-align: right;\">\n",
       "      <th></th>\n",
       "      <th>Unnamed: 0</th>\n",
       "      <th>id</th>\n",
       "      <th>name</th>\n",
       "      <th>date</th>\n",
       "      <th>manner_of_death</th>\n",
       "      <th>armed</th>\n",
       "      <th>age</th>\n",
       "      <th>gender</th>\n",
       "      <th>race</th>\n",
       "      <th>city</th>\n",
       "      <th>state</th>\n",
       "      <th>signs_of_mental_illness</th>\n",
       "      <th>threat_level</th>\n",
       "      <th>flee</th>\n",
       "      <th>body_camera</th>\n",
       "    </tr>\n",
       "  </thead>\n",
       "  <tbody>\n",
       "    <tr>\n",
       "      <th>0</th>\n",
       "      <td>0</td>\n",
       "      <td>3</td>\n",
       "      <td>Tim Elliot</td>\n",
       "      <td>02/01/15</td>\n",
       "      <td>shot</td>\n",
       "      <td>gun</td>\n",
       "      <td>53.0</td>\n",
       "      <td>M</td>\n",
       "      <td>A</td>\n",
       "      <td>Shelton</td>\n",
       "      <td>WA</td>\n",
       "      <td>True</td>\n",
       "      <td>attack</td>\n",
       "      <td>Not fleeing</td>\n",
       "      <td>False</td>\n",
       "    </tr>\n",
       "    <tr>\n",
       "      <th>1</th>\n",
       "      <td>1</td>\n",
       "      <td>4</td>\n",
       "      <td>Lewis Lee Lembke</td>\n",
       "      <td>02/01/15</td>\n",
       "      <td>shot</td>\n",
       "      <td>gun</td>\n",
       "      <td>47.0</td>\n",
       "      <td>M</td>\n",
       "      <td>W</td>\n",
       "      <td>Aloha</td>\n",
       "      <td>OR</td>\n",
       "      <td>False</td>\n",
       "      <td>attack</td>\n",
       "      <td>Not fleeing</td>\n",
       "      <td>False</td>\n",
       "    </tr>\n",
       "    <tr>\n",
       "      <th>2</th>\n",
       "      <td>2</td>\n",
       "      <td>5</td>\n",
       "      <td>John Paul Quintero</td>\n",
       "      <td>03/01/15</td>\n",
       "      <td>shot and Tasered</td>\n",
       "      <td>unarmed</td>\n",
       "      <td>23.0</td>\n",
       "      <td>M</td>\n",
       "      <td>H</td>\n",
       "      <td>Wichita</td>\n",
       "      <td>KS</td>\n",
       "      <td>False</td>\n",
       "      <td>other</td>\n",
       "      <td>Not fleeing</td>\n",
       "      <td>False</td>\n",
       "    </tr>\n",
       "    <tr>\n",
       "      <th>3</th>\n",
       "      <td>3</td>\n",
       "      <td>8</td>\n",
       "      <td>Matthew Hoffman</td>\n",
       "      <td>04/01/15</td>\n",
       "      <td>shot</td>\n",
       "      <td>toy weapon</td>\n",
       "      <td>32.0</td>\n",
       "      <td>M</td>\n",
       "      <td>W</td>\n",
       "      <td>San Francisco</td>\n",
       "      <td>CA</td>\n",
       "      <td>True</td>\n",
       "      <td>attack</td>\n",
       "      <td>Not fleeing</td>\n",
       "      <td>False</td>\n",
       "    </tr>\n",
       "    <tr>\n",
       "      <th>4</th>\n",
       "      <td>4</td>\n",
       "      <td>9</td>\n",
       "      <td>Michael Rodriguez</td>\n",
       "      <td>04/01/15</td>\n",
       "      <td>shot</td>\n",
       "      <td>nail gun</td>\n",
       "      <td>39.0</td>\n",
       "      <td>M</td>\n",
       "      <td>H</td>\n",
       "      <td>Evans</td>\n",
       "      <td>CO</td>\n",
       "      <td>False</td>\n",
       "      <td>attack</td>\n",
       "      <td>Not fleeing</td>\n",
       "      <td>False</td>\n",
       "    </tr>\n",
       "  </tbody>\n",
       "</table>\n",
       "</div>"
      ],
      "text/plain": [
       "   Unnamed: 0  id                name      date   manner_of_death       armed  \\\n",
       "0           0   3          Tim Elliot  02/01/15              shot         gun   \n",
       "1           1   4    Lewis Lee Lembke  02/01/15              shot         gun   \n",
       "2           2   5  John Paul Quintero  03/01/15  shot and Tasered     unarmed   \n",
       "3           3   8     Matthew Hoffman  04/01/15              shot  toy weapon   \n",
       "4           4   9   Michael Rodriguez  04/01/15              shot    nail gun   \n",
       "\n",
       "    age gender race           city state  signs_of_mental_illness  \\\n",
       "0  53.0      M    A        Shelton    WA                     True   \n",
       "1  47.0      M    W          Aloha    OR                    False   \n",
       "2  23.0      M    H        Wichita    KS                    False   \n",
       "3  32.0      M    W  San Francisco    CA                     True   \n",
       "4  39.0      M    H          Evans    CO                    False   \n",
       "\n",
       "  threat_level         flee  body_camera  \n",
       "0       attack  Not fleeing        False  \n",
       "1       attack  Not fleeing        False  \n",
       "2        other  Not fleeing        False  \n",
       "3       attack  Not fleeing        False  \n",
       "4       attack  Not fleeing        False  "
      ]
     },
     "execution_count": 127,
     "metadata": {},
     "output_type": "execute_result"
    }
   ],
   "source": [
    "df1 = pd.read_csv(\"PoliceKillingsUS-utf8.csv\")\n",
    "df1.head()"
   ]
  },
  {
   "cell_type": "markdown",
   "id": "dc422546",
   "metadata": {},
   "source": [
    "### Text pre-processing"
   ]
  },
  {
   "cell_type": "code",
   "execution_count": 129,
   "id": "2d4edaf7",
   "metadata": {},
   "outputs": [
    {
     "data": {
      "text/plain": [
       "{'encoding': 'Windows-1252', 'confidence': 0.73, 'language': ''}"
      ]
     },
     "execution_count": 129,
     "metadata": {},
     "output_type": "execute_result"
    }
   ],
   "source": [
    "with open(\"PakistanSuicideAttacks.csv\",'rb') as f:\n",
    "    result = chardet.detect(f.read(1000000))\n",
    "result"
   ]
  },
  {
   "cell_type": "code",
   "execution_count": 141,
   "id": "fda08fd9",
   "metadata": {},
   "outputs": [
    {
     "data": {
      "text/html": [
       "<div>\n",
       "<style scoped>\n",
       "    .dataframe tbody tr th:only-of-type {\n",
       "        vertical-align: middle;\n",
       "    }\n",
       "\n",
       "    .dataframe tbody tr th {\n",
       "        vertical-align: top;\n",
       "    }\n",
       "\n",
       "    .dataframe thead th {\n",
       "        text-align: right;\n",
       "    }\n",
       "</style>\n",
       "<table border=\"1\" class=\"dataframe\">\n",
       "  <thead>\n",
       "    <tr style=\"text-align: right;\">\n",
       "      <th></th>\n",
       "      <th>S#</th>\n",
       "      <th>Date</th>\n",
       "      <th>Islamic Date</th>\n",
       "      <th>Blast Day Type</th>\n",
       "      <th>Holiday Type</th>\n",
       "      <th>Time</th>\n",
       "      <th>City</th>\n",
       "      <th>Latitude</th>\n",
       "      <th>Longitude</th>\n",
       "      <th>Province</th>\n",
       "      <th>...</th>\n",
       "      <th>Targeted Sect if any</th>\n",
       "      <th>Killed Min</th>\n",
       "      <th>Killed Max</th>\n",
       "      <th>Injured Min</th>\n",
       "      <th>Injured Max</th>\n",
       "      <th>No. of Suicide Blasts</th>\n",
       "      <th>Explosive Weight (max)</th>\n",
       "      <th>Hospital Names</th>\n",
       "      <th>Temperature(C)</th>\n",
       "      <th>Temperature(F)</th>\n",
       "    </tr>\n",
       "  </thead>\n",
       "  <tbody>\n",
       "    <tr>\n",
       "      <th>12</th>\n",
       "      <td>13</td>\n",
       "      <td>Friday-October 1-2004</td>\n",
       "      <td>17 SHa`baan 1425 A.H</td>\n",
       "      <td>Working Day</td>\n",
       "      <td>NaN</td>\n",
       "      <td>1:27 PM/1:25 PM</td>\n",
       "      <td>Sialkot</td>\n",
       "      <td>32.4972</td>\n",
       "      <td>74.5361</td>\n",
       "      <td>Punjab</td>\n",
       "      <td>...</td>\n",
       "      <td>shiite</td>\n",
       "      <td>25.0</td>\n",
       "      <td>31.0</td>\n",
       "      <td>50.0</td>\n",
       "      <td>75</td>\n",
       "      <td>1.0</td>\n",
       "      <td>NaN</td>\n",
       "      <td>Allama Iqbal Memorial DHQ Hospital-Sardar Begu...</td>\n",
       "      <td>27.51</td>\n",
       "      <td>81.518</td>\n",
       "    </tr>\n",
       "    <tr>\n",
       "      <th>118</th>\n",
       "      <td>119</td>\n",
       "      <td>Saturday-September 20-2008</td>\n",
       "      <td>20 RamaDHaan 1429 A.H</td>\n",
       "      <td>Working Day</td>\n",
       "      <td>NaN</td>\n",
       "      <td>NaN</td>\n",
       "      <td>North waziristan</td>\n",
       "      <td>32.9746</td>\n",
       "      <td>70.1456</td>\n",
       "      <td>KPK</td>\n",
       "      <td>...</td>\n",
       "      <td>None</td>\n",
       "      <td>7.0</td>\n",
       "      <td>17.0</td>\n",
       "      <td>5.0</td>\n",
       "      <td>20</td>\n",
       "      <td>1.0</td>\n",
       "      <td>NaN</td>\n",
       "      <td>1.CMH Bannu hospital</td>\n",
       "      <td>22.06</td>\n",
       "      <td>71.708</td>\n",
       "    </tr>\n",
       "    <tr>\n",
       "      <th>143</th>\n",
       "      <td>144</td>\n",
       "      <td>Tuesday-December 9-2008</td>\n",
       "      <td>11 Thw al-Hijjah 1429 A.H</td>\n",
       "      <td>Working Day</td>\n",
       "      <td>NaN</td>\n",
       "      <td>NaN</td>\n",
       "      <td>Buner</td>\n",
       "      <td>34.3943</td>\n",
       "      <td>72.6151</td>\n",
       "      <td>KPK</td>\n",
       "      <td>...</td>\n",
       "      <td>None</td>\n",
       "      <td>NaN</td>\n",
       "      <td>1.0</td>\n",
       "      <td>NaN</td>\n",
       "      <td>4</td>\n",
       "      <td>1.0</td>\n",
       "      <td>NaN</td>\n",
       "      <td>NaN</td>\n",
       "      <td>14.39</td>\n",
       "      <td>57.902</td>\n",
       "    </tr>\n",
       "  </tbody>\n",
       "</table>\n",
       "<p>3 rows × 26 columns</p>\n",
       "</div>"
      ],
      "text/plain": [
       "      S#                        Date               Islamic Date  \\\n",
       "12    13       Friday-October 1-2004       17 SHa`baan 1425 A.H   \n",
       "118  119  Saturday-September 20-2008      20 RamaDHaan 1429 A.H   \n",
       "143  144     Tuesday-December 9-2008  11 Thw al-Hijjah 1429 A.H   \n",
       "\n",
       "    Blast Day Type Holiday Type             Time              City  Latitude  \\\n",
       "12     Working Day          NaN  1:27 PM/1:25 PM           Sialkot   32.4972   \n",
       "118    Working Day          NaN              NaN  North waziristan   32.9746   \n",
       "143    Working Day          NaN              NaN             Buner   34.3943   \n",
       "\n",
       "    Longitude Province  ... Targeted Sect if any Killed Min Killed Max  \\\n",
       "12    74.5361   Punjab  ...               shiite       25.0       31.0   \n",
       "118   70.1456      KPK  ...                 None        7.0       17.0   \n",
       "143   72.6151      KPK  ...                 None        NaN        1.0   \n",
       "\n",
       "    Injured Min Injured Max No. of Suicide Blasts Explosive Weight (max)  \\\n",
       "12         50.0          75                   1.0                    NaN   \n",
       "118         5.0          20                   1.0                    NaN   \n",
       "143         NaN           4                   1.0                    NaN   \n",
       "\n",
       "                                        Hospital Names  Temperature(C)  \\\n",
       "12   Allama Iqbal Memorial DHQ Hospital-Sardar Begu...           27.51   \n",
       "118                               1.CMH Bannu hospital           22.06   \n",
       "143                                                NaN           14.39   \n",
       "\n",
       "     Temperature(F)  \n",
       "12           81.518  \n",
       "118          71.708  \n",
       "143          57.902  \n",
       "\n",
       "[3 rows x 26 columns]"
      ]
     },
     "execution_count": 141,
     "metadata": {},
     "output_type": "execute_result"
    }
   ],
   "source": [
    "suicide_attacks = pd.read_csv(\"PakistanSuicideAttacks.csv\")\n",
    "suicide_attacks.sample(3)"
   ]
  },
  {
   "cell_type": "code",
   "execution_count": 142,
   "id": "2b868528",
   "metadata": {},
   "outputs": [
    {
     "data": {
      "text/plain": [
       "array(['Capital', 'Sindh', 'Baluchistan', 'Punjab', 'FATA', 'KPK', 'AJK',\n",
       "       'Fata', 'Balochistan'], dtype=object)"
      ]
     },
     "execution_count": 142,
     "metadata": {},
     "output_type": "execute_result"
    }
   ],
   "source": [
    "suicide_attacks.Province.unique()"
   ]
  },
  {
   "cell_type": "code",
   "execution_count": 144,
   "id": "048bdce0",
   "metadata": {},
   "outputs": [],
   "source": [
    "suicide_attacks['Province'] = suicide_attacks['Province'].str.lower()\n",
    "suicide_attacks['Province'] = suicide_attacks['Province'].str.strip()"
   ]
  },
  {
   "cell_type": "code",
   "execution_count": 149,
   "id": "55881247",
   "metadata": {},
   "outputs": [
    {
     "data": {
      "text/plain": [
       "array(['capital', 'sindh', 'baluchistan', 'punjab', 'fata', 'kpk', 'ajk',\n",
       "       'balochistan'], dtype=object)"
      ]
     },
     "execution_count": 149,
     "metadata": {},
     "output_type": "execute_result"
    }
   ],
   "source": [
    "cities = suicide_attacks.Province.unique()\n",
    "cities"
   ]
  },
  {
   "cell_type": "markdown",
   "id": "652c995a",
   "metadata": {},
   "source": [
    "### Use fuzzy matching to correct inconsistent data entry"
   ]
  },
  {
   "cell_type": "code",
   "execution_count": 150,
   "id": "4814a6f1",
   "metadata": {},
   "outputs": [],
   "source": [
    "import fuzzywuzzy\n",
    "from fuzzywuzzy import process"
   ]
  },
  {
   "cell_type": "code",
   "execution_count": 153,
   "id": "ca15c2d7",
   "metadata": {},
   "outputs": [
    {
     "data": {
      "text/plain": [
       "[('baluchistan', 100), ('balochistan', 91), ('capital', 44)]"
      ]
     },
     "execution_count": 153,
     "metadata": {},
     "output_type": "execute_result"
    }
   ],
   "source": [
    "fuzzywuzzy.process.extract(\"baluchistan\", cities, limit=3, scorer=fuzzywuzzy.fuzz.token_sort_ratio)"
   ]
  },
  {
   "cell_type": "code",
   "execution_count": 154,
   "id": "89f00922",
   "metadata": {},
   "outputs": [],
   "source": [
    "def replace_matches_in_column(df, column, string_to_match, min_ratio = 90):\n",
    "    strings = df[column].unique()\n",
    "    matches = fuzzywuzzy.process.extract(string_to_match, strings, \n",
    "                                         limit=3, scorer=fuzzywuzzy.fuzz.token_sort_ratio)\n",
    "\n",
    "    # only get matches with a ratio > 90\n",
    "    close_matches = [matches[0] for matches in matches if matches[1] >= min_ratio]\n",
    "\n",
    "    # get the rows of all the close matches in our dataframe\n",
    "    rows_with_matches = df[column].isin(close_matches)\n",
    "\n",
    "    # replace all rows with close matches with the input matches \n",
    "    df.loc[rows_with_matches, column] = string_to_match"
   ]
  },
  {
   "cell_type": "code",
   "execution_count": 160,
   "id": "2ecaaf3f",
   "metadata": {},
   "outputs": [],
   "source": [
    "replace_matches_in_column(suicide_attacks,'Province','baluchistan')"
   ]
  },
  {
   "cell_type": "code",
   "execution_count": 161,
   "id": "ccd6bf88",
   "metadata": {},
   "outputs": [
    {
     "data": {
      "text/plain": [
       "array(['capital', 'sindh', 'baluchistan', 'punjab', 'fata', 'kpk', 'ajk'],\n",
       "      dtype=object)"
      ]
     },
     "execution_count": 161,
     "metadata": {},
     "output_type": "execute_result"
    }
   ],
   "source": [
    "suicide_attacks.Province.unique()"
   ]
  }
 ],
 "metadata": {
  "kernelspec": {
   "display_name": "Python 3",
   "language": "python",
   "name": "python3"
  },
  "language_info": {
   "codemirror_mode": {
    "name": "ipython",
    "version": 3
   },
   "file_extension": ".py",
   "mimetype": "text/x-python",
   "name": "python",
   "nbconvert_exporter": "python",
   "pygments_lexer": "ipython3",
   "version": "3.8.8"
  }
 },
 "nbformat": 4,
 "nbformat_minor": 5
}
