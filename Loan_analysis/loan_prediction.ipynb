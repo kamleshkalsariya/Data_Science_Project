{
 "cells": [
  {
   "cell_type": "markdown",
   "id": "11317982",
   "metadata": {},
   "source": [
    "## Loan Data Analysis and Predict Loan Defaulted or Not at Initial Stage\n",
    "Project is divided into five main parts:\n",
    "#### 1. Data understanding\n",
    "#### 2. Data cleaning\n",
    "#### 3. Data Analysis\n",
    "#### 4. Prediction done by simple logistics regression\n",
    "#### 5. Hyperparameter tunning\n",
    "\n"
   ]
  },
  {
   "cell_type": "markdown",
   "id": "816b23cf",
   "metadata": {},
   "source": [
    "###  Open required modules"
   ]
  },
  {
   "cell_type": "code",
   "execution_count": 2,
   "id": "2cdee1df",
   "metadata": {},
   "outputs": [],
   "source": [
    "import pandas as pd\n",
    "import numpy as np\n",
    "import matplotlib.pyplot as plt\n",
    "import seaborn as sns\n",
    "import warnings\n",
    "warnings.simplefilter(\"ignore\")"
   ]
  },
  {
   "cell_type": "markdown",
   "id": "a39b2cbe",
   "metadata": {},
   "source": [
    "### Open CSV file"
   ]
  },
  {
   "cell_type": "code",
   "execution_count": 3,
   "id": "15bac063",
   "metadata": {},
   "outputs": [
    {
     "data": {
      "text/plain": [
       "(39715, 111)"
      ]
     },
     "execution_count": 3,
     "metadata": {},
     "output_type": "execute_result"
    }
   ],
   "source": [
    "df = pd.read_csv(\"loan.csv\",low_memory=False)\n",
    "df.shape"
   ]
  },
  {
   "cell_type": "markdown",
   "id": "f1ed58d4",
   "metadata": {},
   "source": [
    "### Data Understanding"
   ]
  },
  {
   "cell_type": "code",
   "execution_count": 4,
   "id": "407e69e9",
   "metadata": {},
   "outputs": [
    {
     "data": {
      "text/html": [
       "<div>\n",
       "<style scoped>\n",
       "    .dataframe tbody tr th:only-of-type {\n",
       "        vertical-align: middle;\n",
       "    }\n",
       "\n",
       "    .dataframe tbody tr th {\n",
       "        vertical-align: top;\n",
       "    }\n",
       "\n",
       "    .dataframe thead th {\n",
       "        text-align: right;\n",
       "    }\n",
       "</style>\n",
       "<table border=\"1\" class=\"dataframe\">\n",
       "  <thead>\n",
       "    <tr style=\"text-align: right;\">\n",
       "      <th></th>\n",
       "      <th>id</th>\n",
       "      <th>member_id</th>\n",
       "      <th>loan_amnt</th>\n",
       "      <th>funded_amnt</th>\n",
       "      <th>funded_amnt_inv</th>\n",
       "      <th>term</th>\n",
       "      <th>int_rate</th>\n",
       "      <th>installment</th>\n",
       "      <th>grade</th>\n",
       "      <th>sub_grade</th>\n",
       "      <th>...</th>\n",
       "      <th>num_tl_90g_dpd_24m</th>\n",
       "      <th>num_tl_op_past_12m</th>\n",
       "      <th>pct_tl_nvr_dlq</th>\n",
       "      <th>percent_bc_gt_75</th>\n",
       "      <th>pub_rec_bankruptcies</th>\n",
       "      <th>tax_liens</th>\n",
       "      <th>tot_hi_cred_lim</th>\n",
       "      <th>total_bal_ex_mort</th>\n",
       "      <th>total_bc_limit</th>\n",
       "      <th>total_il_high_credit_limit</th>\n",
       "    </tr>\n",
       "  </thead>\n",
       "  <tbody>\n",
       "    <tr>\n",
       "      <th>0</th>\n",
       "      <td>1077175</td>\n",
       "      <td>1313524</td>\n",
       "      <td>2400</td>\n",
       "      <td>2400</td>\n",
       "      <td>2400.0</td>\n",
       "      <td>36 months</td>\n",
       "      <td>15.96%</td>\n",
       "      <td>84.33</td>\n",
       "      <td>C</td>\n",
       "      <td>C5</td>\n",
       "      <td>...</td>\n",
       "      <td>NaN</td>\n",
       "      <td>NaN</td>\n",
       "      <td>NaN</td>\n",
       "      <td>NaN</td>\n",
       "      <td>0.0</td>\n",
       "      <td>0.0</td>\n",
       "      <td>NaN</td>\n",
       "      <td>NaN</td>\n",
       "      <td>NaN</td>\n",
       "      <td>NaN</td>\n",
       "    </tr>\n",
       "    <tr>\n",
       "      <th>1</th>\n",
       "      <td>1076863</td>\n",
       "      <td>1277178</td>\n",
       "      <td>10000</td>\n",
       "      <td>10000</td>\n",
       "      <td>10000.0</td>\n",
       "      <td>36 months</td>\n",
       "      <td>13.49%</td>\n",
       "      <td>339.31</td>\n",
       "      <td>C</td>\n",
       "      <td>C1</td>\n",
       "      <td>...</td>\n",
       "      <td>NaN</td>\n",
       "      <td>NaN</td>\n",
       "      <td>NaN</td>\n",
       "      <td>NaN</td>\n",
       "      <td>0.0</td>\n",
       "      <td>0.0</td>\n",
       "      <td>NaN</td>\n",
       "      <td>NaN</td>\n",
       "      <td>NaN</td>\n",
       "      <td>NaN</td>\n",
       "    </tr>\n",
       "    <tr>\n",
       "      <th>2</th>\n",
       "      <td>1075358</td>\n",
       "      <td>1311748</td>\n",
       "      <td>3000</td>\n",
       "      <td>3000</td>\n",
       "      <td>3000.0</td>\n",
       "      <td>60 months</td>\n",
       "      <td>12.69%</td>\n",
       "      <td>67.79</td>\n",
       "      <td>B</td>\n",
       "      <td>B5</td>\n",
       "      <td>...</td>\n",
       "      <td>NaN</td>\n",
       "      <td>NaN</td>\n",
       "      <td>NaN</td>\n",
       "      <td>NaN</td>\n",
       "      <td>0.0</td>\n",
       "      <td>0.0</td>\n",
       "      <td>NaN</td>\n",
       "      <td>NaN</td>\n",
       "      <td>NaN</td>\n",
       "      <td>NaN</td>\n",
       "    </tr>\n",
       "    <tr>\n",
       "      <th>3</th>\n",
       "      <td>1075269</td>\n",
       "      <td>1311441</td>\n",
       "      <td>5000</td>\n",
       "      <td>5000</td>\n",
       "      <td>5000.0</td>\n",
       "      <td>36 months</td>\n",
       "      <td>7.90%</td>\n",
       "      <td>156.46</td>\n",
       "      <td>A</td>\n",
       "      <td>A4</td>\n",
       "      <td>...</td>\n",
       "      <td>NaN</td>\n",
       "      <td>NaN</td>\n",
       "      <td>NaN</td>\n",
       "      <td>NaN</td>\n",
       "      <td>0.0</td>\n",
       "      <td>0.0</td>\n",
       "      <td>NaN</td>\n",
       "      <td>NaN</td>\n",
       "      <td>NaN</td>\n",
       "      <td>NaN</td>\n",
       "    </tr>\n",
       "    <tr>\n",
       "      <th>4</th>\n",
       "      <td>1069639</td>\n",
       "      <td>1304742</td>\n",
       "      <td>7000</td>\n",
       "      <td>7000</td>\n",
       "      <td>7000.0</td>\n",
       "      <td>60 months</td>\n",
       "      <td>15.96%</td>\n",
       "      <td>170.08</td>\n",
       "      <td>C</td>\n",
       "      <td>C5</td>\n",
       "      <td>...</td>\n",
       "      <td>NaN</td>\n",
       "      <td>NaN</td>\n",
       "      <td>NaN</td>\n",
       "      <td>NaN</td>\n",
       "      <td>0.0</td>\n",
       "      <td>0.0</td>\n",
       "      <td>NaN</td>\n",
       "      <td>NaN</td>\n",
       "      <td>NaN</td>\n",
       "      <td>NaN</td>\n",
       "    </tr>\n",
       "  </tbody>\n",
       "</table>\n",
       "<p>5 rows × 111 columns</p>\n",
       "</div>"
      ],
      "text/plain": [
       "        id  member_id  loan_amnt  funded_amnt  funded_amnt_inv        term  \\\n",
       "0  1077175    1313524       2400         2400           2400.0   36 months   \n",
       "1  1076863    1277178      10000        10000          10000.0   36 months   \n",
       "2  1075358    1311748       3000         3000           3000.0   60 months   \n",
       "3  1075269    1311441       5000         5000           5000.0   36 months   \n",
       "4  1069639    1304742       7000         7000           7000.0   60 months   \n",
       "\n",
       "  int_rate  installment grade sub_grade  ... num_tl_90g_dpd_24m  \\\n",
       "0   15.96%        84.33     C        C5  ...                NaN   \n",
       "1   13.49%       339.31     C        C1  ...                NaN   \n",
       "2   12.69%        67.79     B        B5  ...                NaN   \n",
       "3    7.90%       156.46     A        A4  ...                NaN   \n",
       "4   15.96%       170.08     C        C5  ...                NaN   \n",
       "\n",
       "  num_tl_op_past_12m pct_tl_nvr_dlq  percent_bc_gt_75 pub_rec_bankruptcies  \\\n",
       "0                NaN            NaN               NaN                  0.0   \n",
       "1                NaN            NaN               NaN                  0.0   \n",
       "2                NaN            NaN               NaN                  0.0   \n",
       "3                NaN            NaN               NaN                  0.0   \n",
       "4                NaN            NaN               NaN                  0.0   \n",
       "\n",
       "  tax_liens tot_hi_cred_lim total_bal_ex_mort total_bc_limit  \\\n",
       "0       0.0             NaN               NaN            NaN   \n",
       "1       0.0             NaN               NaN            NaN   \n",
       "2       0.0             NaN               NaN            NaN   \n",
       "3       0.0             NaN               NaN            NaN   \n",
       "4       0.0             NaN               NaN            NaN   \n",
       "\n",
       "  total_il_high_credit_limit  \n",
       "0                        NaN  \n",
       "1                        NaN  \n",
       "2                        NaN  \n",
       "3                        NaN  \n",
       "4                        NaN  \n",
       "\n",
       "[5 rows x 111 columns]"
      ]
     },
     "execution_count": 4,
     "metadata": {},
     "output_type": "execute_result"
    }
   ],
   "source": [
    "df.head(5)"
   ]
  },
  {
   "cell_type": "code",
   "execution_count": 5,
   "id": "ab16ff09",
   "metadata": {},
   "outputs": [
    {
     "data": {
      "text/plain": [
       "array([    0,     0,     0,     0,     0,     0,     0,     0,     0,\n",
       "           0,  2458,  1075,     0,     0,     0,     0,     0,     0,\n",
       "           0, 12940,     0,    11,     0,     0,     0,     0,     0,\n",
       "           0, 25680, 36929,     0,     0,     0,    50,     0,     0,\n",
       "           0,     0,     0,     0,     0,     0,     0,     0,     0,\n",
       "          71,     0, 38575,     2,    56, 39715,     0,     0, 39715,\n",
       "       39715, 39715,     0, 39715, 39715, 39715, 39715, 39715, 39715,\n",
       "       39715, 39715, 39715, 39715, 39715, 39715, 39715, 39715, 39715,\n",
       "       39715, 39715, 39715, 39715, 39715, 39715,    56,     0, 39715,\n",
       "       39715, 39715, 39715, 39715, 39715, 39715, 39715, 39715, 39715,\n",
       "       39715, 39715, 39715, 39715, 39715, 39715, 39715, 39715, 39715,\n",
       "       39715, 39715, 39715, 39715, 39715, 39715,   697,    39, 39715,\n",
       "       39715, 39715, 39715], dtype=int64)"
      ]
     },
     "execution_count": 5,
     "metadata": {},
     "output_type": "execute_result"
    }
   ],
   "source": [
    "#how many missing value in each column\n",
    "np.array(df.isna().sum())"
   ]
  },
  {
   "cell_type": "code",
   "execution_count": 6,
   "id": "71452793",
   "metadata": {},
   "outputs": [
    {
     "data": {
      "text/plain": [
       "Index(['id', 'member_id', 'loan_amnt', 'funded_amnt', 'funded_amnt_inv',\n",
       "       'term', 'int_rate', 'installment', 'grade', 'sub_grade',\n",
       "       ...\n",
       "       'num_tl_90g_dpd_24m', 'num_tl_op_past_12m', 'pct_tl_nvr_dlq',\n",
       "       'percent_bc_gt_75', 'pub_rec_bankruptcies', 'tax_liens',\n",
       "       'tot_hi_cred_lim', 'total_bal_ex_mort', 'total_bc_limit',\n",
       "       'total_il_high_credit_limit'],\n",
       "      dtype='object', length=111)"
      ]
     },
     "execution_count": 6,
     "metadata": {},
     "output_type": "execute_result"
    }
   ],
   "source": [
    "#column names\n",
    "df.columns"
   ]
  },
  {
   "cell_type": "code",
   "execution_count": 7,
   "id": "a2f499e5",
   "metadata": {},
   "outputs": [
    {
     "data": {
      "text/html": [
       "<div>\n",
       "<style scoped>\n",
       "    .dataframe tbody tr th:only-of-type {\n",
       "        vertical-align: middle;\n",
       "    }\n",
       "\n",
       "    .dataframe tbody tr th {\n",
       "        vertical-align: top;\n",
       "    }\n",
       "\n",
       "    .dataframe thead th {\n",
       "        text-align: right;\n",
       "    }\n",
       "</style>\n",
       "<table border=\"1\" class=\"dataframe\">\n",
       "  <thead>\n",
       "    <tr style=\"text-align: right;\">\n",
       "      <th></th>\n",
       "      <th>loan_status</th>\n",
       "      <th>emp_length</th>\n",
       "    </tr>\n",
       "  </thead>\n",
       "  <tbody>\n",
       "    <tr>\n",
       "      <th>0</th>\n",
       "      <td>Fully Paid</td>\n",
       "      <td>10+ years</td>\n",
       "    </tr>\n",
       "    <tr>\n",
       "      <th>1</th>\n",
       "      <td>Fully Paid</td>\n",
       "      <td>10+ years</td>\n",
       "    </tr>\n",
       "    <tr>\n",
       "      <th>2</th>\n",
       "      <td>Current</td>\n",
       "      <td>1 year</td>\n",
       "    </tr>\n",
       "    <tr>\n",
       "      <th>3</th>\n",
       "      <td>Fully Paid</td>\n",
       "      <td>3 years</td>\n",
       "    </tr>\n",
       "    <tr>\n",
       "      <th>4</th>\n",
       "      <td>Fully Paid</td>\n",
       "      <td>8 years</td>\n",
       "    </tr>\n",
       "  </tbody>\n",
       "</table>\n",
       "</div>"
      ],
      "text/plain": [
       "  loan_status emp_length\n",
       "0  Fully Paid  10+ years\n",
       "1  Fully Paid  10+ years\n",
       "2     Current     1 year\n",
       "3  Fully Paid    3 years\n",
       "4  Fully Paid    8 years"
      ]
     },
     "execution_count": 7,
     "metadata": {},
     "output_type": "execute_result"
    }
   ],
   "source": [
    "# access specific raws and columns in dataset by index\n",
    "df.iloc[:5,[16,11]]"
   ]
  },
  {
   "cell_type": "markdown",
   "id": "4935c742",
   "metadata": {},
   "source": [
    "### Data Cleaning"
   ]
  },
  {
   "cell_type": "markdown",
   "id": "a38c5c9a",
   "metadata": {},
   "source": [
    "#### ~Missing value"
   ]
  },
  {
   "cell_type": "code",
   "execution_count": 8,
   "id": "1b12e540",
   "metadata": {},
   "outputs": [
    {
     "data": {
      "text/plain": [
       "(39715, 44)"
      ]
     },
     "execution_count": 8,
     "metadata": {},
     "output_type": "execute_result"
    }
   ],
   "source": [
    "#remove missing value columns\n",
    "df1 = df.copy()\n",
    "for col in df1.columns:\n",
    "    if df1[col].isna().sum()>0:\n",
    "        df1.drop(col,axis = 1,inplace = True)\n",
    "df1['emp_length'] =df['emp_length']\n",
    "df1.shape"
   ]
  },
  {
   "cell_type": "code",
   "execution_count": 9,
   "id": "1d34ca0a",
   "metadata": {},
   "outputs": [
    {
     "data": {
      "text/plain": [
       "array({'id': 39715, 'member_id': 39715, 'loan_amnt': 885, 'funded_amnt': 1041, 'funded_amnt_inv': 8205, 'term': 2, 'int_rate': 371, 'installment': 15383, 'grade': 7, 'sub_grade': 35, 'home_ownership': 5, 'annual_inc': 5318, 'verification_status': 3, 'issue_d': 55, 'loan_status': 3, 'pymnt_plan': 1, 'url': 39715, 'purpose': 14, 'zip_code': 823, 'addr_state': 50, 'dti': 2868, 'delinq_2yrs': 11, 'earliest_cr_line': 526, 'inq_last_6mths': 9, 'open_acc': 40, 'pub_rec': 5, 'revol_bal': 21711, 'total_acc': 82, 'initial_list_status': 1, 'out_prncp': 1137, 'out_prncp_inv': 1138, 'total_pymnt': 37849, 'total_pymnt_inv': 37516, 'total_rec_prncp': 7975, 'total_rec_int': 35148, 'total_rec_late_fee': 1356, 'recoveries': 4039, 'collection_recovery_fee': 2616, 'last_pymnt_amnt': 34929, 'policy_code': 1, 'application_type': 1, 'acc_now_delinq': 1, 'delinq_amnt': 1, 'emp_length': 12},\n",
       "      dtype=object)"
      ]
     },
     "execution_count": 9,
     "metadata": {},
     "output_type": "execute_result"
    }
   ],
   "source": [
    "#how many unique items in each column\n",
    "unique = {}\n",
    "for col in df1.columns:\n",
    "     unique[col] =len(df1[col].unique())\n",
    "np.array(unique)"
   ]
  },
  {
   "cell_type": "markdown",
   "id": "c2653605",
   "metadata": {},
   "source": [
    "#### ~Variability"
   ]
  },
  {
   "cell_type": "code",
   "execution_count": 10,
   "id": "963d492d",
   "metadata": {},
   "outputs": [
    {
     "data": {
      "text/plain": [
       "(39715, 30)"
      ]
     },
     "execution_count": 10,
     "metadata": {},
     "output_type": "execute_result"
    }
   ],
   "source": [
    "#remove highly variable and non-variable features\n",
    "for col in df1.columns:\n",
    "    if len(df1[col].unique()) > 20000 or len(df1[col].unique())==1 :\n",
    "        df1.drop(col,axis = 1,inplace = True)\n",
    "df1.shape"
   ]
  },
  {
   "cell_type": "code",
   "execution_count": 11,
   "id": "f7d27c32",
   "metadata": {},
   "outputs": [
    {
     "data": {
      "text/html": [
       "<div>\n",
       "<style scoped>\n",
       "    .dataframe tbody tr th:only-of-type {\n",
       "        vertical-align: middle;\n",
       "    }\n",
       "\n",
       "    .dataframe tbody tr th {\n",
       "        vertical-align: top;\n",
       "    }\n",
       "\n",
       "    .dataframe thead th {\n",
       "        text-align: right;\n",
       "    }\n",
       "</style>\n",
       "<table border=\"1\" class=\"dataframe\">\n",
       "  <thead>\n",
       "    <tr style=\"text-align: right;\">\n",
       "      <th></th>\n",
       "      <th>loan_status</th>\n",
       "      <th>zip_code</th>\n",
       "    </tr>\n",
       "  </thead>\n",
       "  <tbody>\n",
       "    <tr>\n",
       "      <th>11718</th>\n",
       "      <td>Fully Paid</td>\n",
       "      <td>601xx</td>\n",
       "    </tr>\n",
       "    <tr>\n",
       "      <th>12425</th>\n",
       "      <td>Fully Paid</td>\n",
       "      <td>331xx</td>\n",
       "    </tr>\n",
       "    <tr>\n",
       "      <th>20967</th>\n",
       "      <td>Fully Paid</td>\n",
       "      <td>945xx</td>\n",
       "    </tr>\n",
       "    <tr>\n",
       "      <th>6804</th>\n",
       "      <td>Fully Paid</td>\n",
       "      <td>303xx</td>\n",
       "    </tr>\n",
       "    <tr>\n",
       "      <th>14788</th>\n",
       "      <td>Current</td>\n",
       "      <td>492xx</td>\n",
       "    </tr>\n",
       "    <tr>\n",
       "      <th>17395</th>\n",
       "      <td>Fully Paid</td>\n",
       "      <td>549xx</td>\n",
       "    </tr>\n",
       "    <tr>\n",
       "      <th>30196</th>\n",
       "      <td>Fully Paid</td>\n",
       "      <td>627xx</td>\n",
       "    </tr>\n",
       "    <tr>\n",
       "      <th>34738</th>\n",
       "      <td>Fully Paid</td>\n",
       "      <td>941xx</td>\n",
       "    </tr>\n",
       "    <tr>\n",
       "      <th>3123</th>\n",
       "      <td>Fully Paid</td>\n",
       "      <td>100xx</td>\n",
       "    </tr>\n",
       "    <tr>\n",
       "      <th>8491</th>\n",
       "      <td>Fully Paid</td>\n",
       "      <td>060xx</td>\n",
       "    </tr>\n",
       "  </tbody>\n",
       "</table>\n",
       "</div>"
      ],
      "text/plain": [
       "      loan_status zip_code\n",
       "11718  Fully Paid    601xx\n",
       "12425  Fully Paid    331xx\n",
       "20967  Fully Paid    945xx\n",
       "6804   Fully Paid    303xx\n",
       "14788     Current    492xx\n",
       "17395  Fully Paid    549xx\n",
       "30196  Fully Paid    627xx\n",
       "34738  Fully Paid    941xx\n",
       "3123   Fully Paid    100xx\n",
       "8491   Fully Paid    060xx"
      ]
     },
     "execution_count": 11,
     "metadata": {},
     "output_type": "execute_result"
    }
   ],
   "source": [
    "#check dependency of each column with loan_status\n",
    "df1[['loan_status','zip_code']].sample(10)"
   ]
  },
  {
   "cell_type": "code",
   "execution_count": 12,
   "id": "4b8b95da",
   "metadata": {},
   "outputs": [
    {
     "data": {
      "text/plain": [
       "(39715, 12)"
      ]
     },
     "execution_count": 12,
     "metadata": {},
     "output_type": "execute_result"
    }
   ],
   "source": [
    "#list of column which is not depend on loan_status\n",
    "col_to_remove = ['funded_amnt', 'funded_amnt_inv',\n",
    "        'sub_grade', 'issue_d','addr_state', 'delinq_2yrs', 'earliest_cr_line','inq_last_6mths', 'open_acc', 'pub_rec', 'total_acc','out_prncp','out_prncp_inv',\n",
    "        'out_prncp_inv', 'total_rec_prncp', 'total_rec_late_fee', 'recoveries', 'collection_recovery_fee','zip_code']\n",
    "df1.drop(col_to_remove,axis =1,errors = 'ignore',inplace = True)\n",
    "df1.shape"
   ]
  },
  {
   "cell_type": "code",
   "execution_count": 13,
   "id": "90cc01e3",
   "metadata": {
    "scrolled": true
   },
   "outputs": [
    {
     "data": {
      "text/plain": [
       "(38575, 12)"
      ]
     },
     "execution_count": 13,
     "metadata": {},
     "output_type": "execute_result"
    }
   ],
   "source": [
    "#we try to remove 'Current' case from loan_status\n",
    "df1_new = df1[df1.loan_status != 'Current']\n",
    "df1_new.shape"
   ]
  },
  {
   "cell_type": "code",
   "execution_count": 14,
   "id": "f2e00e52",
   "metadata": {},
   "outputs": [
    {
     "data": {
      "text/plain": [
       "(37539, 12)"
      ]
     },
     "execution_count": 14,
     "metadata": {},
     "output_type": "execute_result"
    }
   ],
   "source": [
    "#remove raws which have missing value and 'None' \n",
    "df1_new= df1_new[df1_new.isnull().sum(axis=1)==0]\n",
    "df1_new = df1_new[df1_new.home_ownership != 'NONE']\n",
    "df1_new.shape"
   ]
  },
  {
   "cell_type": "code",
   "execution_count": 15,
   "id": "d8f51334",
   "metadata": {},
   "outputs": [
    {
     "data": {
      "text/plain": [
       "Fully Paid     32141\n",
       "Charged Off     5398\n",
       "Name: loan_status, dtype: int64"
      ]
     },
     "execution_count": 15,
     "metadata": {},
     "output_type": "execute_result"
    }
   ],
   "source": [
    "df1_new.loan_status.value_counts()"
   ]
  },
  {
   "cell_type": "markdown",
   "id": "f1e1badc",
   "metadata": {},
   "source": [
    "#### ~Correction in Data types"
   ]
  },
  {
   "cell_type": "code",
   "execution_count": 16,
   "id": "24b8579c",
   "metadata": {},
   "outputs": [
    {
     "data": {
      "text/plain": [
       "0    32141\n",
       "1     5398\n",
       "Name: loan_status, dtype: int64"
      ]
     },
     "execution_count": 16,
     "metadata": {},
     "output_type": "execute_result"
    }
   ],
   "source": [
    "#convert loan status into binary, 0 for paid 1 for default\n",
    "df2 = df1_new.copy()\n",
    "df2['loan_status'] = df1_new['loan_status'].apply(lambda x: 0 if x == 'Fully Paid' else 1)\n",
    "df2.loan_status.value_counts()"
   ]
  },
  {
   "cell_type": "code",
   "execution_count": 17,
   "id": "fd875165",
   "metadata": {},
   "outputs": [
    {
     "data": {
      "text/html": [
       "<div>\n",
       "<style scoped>\n",
       "    .dataframe tbody tr th:only-of-type {\n",
       "        vertical-align: middle;\n",
       "    }\n",
       "\n",
       "    .dataframe tbody tr th {\n",
       "        vertical-align: top;\n",
       "    }\n",
       "\n",
       "    .dataframe thead th {\n",
       "        text-align: right;\n",
       "    }\n",
       "</style>\n",
       "<table border=\"1\" class=\"dataframe\">\n",
       "  <thead>\n",
       "    <tr style=\"text-align: right;\">\n",
       "      <th></th>\n",
       "      <th>int_rate</th>\n",
       "      <th>emp_length</th>\n",
       "    </tr>\n",
       "  </thead>\n",
       "  <tbody>\n",
       "    <tr>\n",
       "      <th>0</th>\n",
       "      <td>15.96%</td>\n",
       "      <td>10+ years</td>\n",
       "    </tr>\n",
       "    <tr>\n",
       "      <th>1</th>\n",
       "      <td>13.49%</td>\n",
       "      <td>10+ years</td>\n",
       "    </tr>\n",
       "    <tr>\n",
       "      <th>3</th>\n",
       "      <td>7.90%</td>\n",
       "      <td>3 years</td>\n",
       "    </tr>\n",
       "    <tr>\n",
       "      <th>4</th>\n",
       "      <td>15.96%</td>\n",
       "      <td>8 years</td>\n",
       "    </tr>\n",
       "    <tr>\n",
       "      <th>5</th>\n",
       "      <td>18.64%</td>\n",
       "      <td>9 years</td>\n",
       "    </tr>\n",
       "  </tbody>\n",
       "</table>\n",
       "</div>"
      ],
      "text/plain": [
       "  int_rate emp_length\n",
       "0   15.96%  10+ years\n",
       "1   13.49%  10+ years\n",
       "3    7.90%    3 years\n",
       "4   15.96%    8 years\n",
       "5   18.64%    9 years"
      ]
     },
     "execution_count": 17,
     "metadata": {},
     "output_type": "execute_result"
    }
   ],
   "source": [
    "df2[['int_rate','emp_length']].head()"
   ]
  },
  {
   "cell_type": "code",
   "execution_count": 18,
   "id": "6d23ae82",
   "metadata": {},
   "outputs": [
    {
     "data": {
      "text/html": [
       "<div>\n",
       "<style scoped>\n",
       "    .dataframe tbody tr th:only-of-type {\n",
       "        vertical-align: middle;\n",
       "    }\n",
       "\n",
       "    .dataframe tbody tr th {\n",
       "        vertical-align: top;\n",
       "    }\n",
       "\n",
       "    .dataframe thead th {\n",
       "        text-align: right;\n",
       "    }\n",
       "</style>\n",
       "<table border=\"1\" class=\"dataframe\">\n",
       "  <thead>\n",
       "    <tr style=\"text-align: right;\">\n",
       "      <th></th>\n",
       "      <th>loan_amnt</th>\n",
       "      <th>term</th>\n",
       "      <th>int_rate</th>\n",
       "      <th>installment</th>\n",
       "      <th>grade</th>\n",
       "      <th>home_ownership</th>\n",
       "      <th>annual_inc</th>\n",
       "      <th>verification_status</th>\n",
       "      <th>loan_status</th>\n",
       "      <th>purpose</th>\n",
       "      <th>dti</th>\n",
       "      <th>emp_length</th>\n",
       "    </tr>\n",
       "  </thead>\n",
       "  <tbody>\n",
       "    <tr>\n",
       "      <th>0</th>\n",
       "      <td>2400</td>\n",
       "      <td>36 months</td>\n",
       "      <td>15.96</td>\n",
       "      <td>84.33</td>\n",
       "      <td>C</td>\n",
       "      <td>RENT</td>\n",
       "      <td>12252.0</td>\n",
       "      <td>Not Verified</td>\n",
       "      <td>0</td>\n",
       "      <td>small_business</td>\n",
       "      <td>8.72</td>\n",
       "      <td>10</td>\n",
       "    </tr>\n",
       "    <tr>\n",
       "      <th>1</th>\n",
       "      <td>10000</td>\n",
       "      <td>36 months</td>\n",
       "      <td>13.49</td>\n",
       "      <td>339.31</td>\n",
       "      <td>C</td>\n",
       "      <td>RENT</td>\n",
       "      <td>49200.0</td>\n",
       "      <td>Source Verified</td>\n",
       "      <td>0</td>\n",
       "      <td>other</td>\n",
       "      <td>20.00</td>\n",
       "      <td>10</td>\n",
       "    </tr>\n",
       "    <tr>\n",
       "      <th>3</th>\n",
       "      <td>5000</td>\n",
       "      <td>36 months</td>\n",
       "      <td>7.90</td>\n",
       "      <td>156.46</td>\n",
       "      <td>A</td>\n",
       "      <td>RENT</td>\n",
       "      <td>36000.0</td>\n",
       "      <td>Source Verified</td>\n",
       "      <td>0</td>\n",
       "      <td>wedding</td>\n",
       "      <td>11.20</td>\n",
       "      <td>3</td>\n",
       "    </tr>\n",
       "    <tr>\n",
       "      <th>4</th>\n",
       "      <td>7000</td>\n",
       "      <td>60 months</td>\n",
       "      <td>15.96</td>\n",
       "      <td>170.08</td>\n",
       "      <td>C</td>\n",
       "      <td>RENT</td>\n",
       "      <td>47004.0</td>\n",
       "      <td>Not Verified</td>\n",
       "      <td>0</td>\n",
       "      <td>debt_consolidation</td>\n",
       "      <td>23.51</td>\n",
       "      <td>8</td>\n",
       "    </tr>\n",
       "    <tr>\n",
       "      <th>5</th>\n",
       "      <td>3000</td>\n",
       "      <td>36 months</td>\n",
       "      <td>18.64</td>\n",
       "      <td>109.43</td>\n",
       "      <td>E</td>\n",
       "      <td>RENT</td>\n",
       "      <td>48000.0</td>\n",
       "      <td>Source Verified</td>\n",
       "      <td>0</td>\n",
       "      <td>car</td>\n",
       "      <td>5.35</td>\n",
       "      <td>9</td>\n",
       "    </tr>\n",
       "  </tbody>\n",
       "</table>\n",
       "</div>"
      ],
      "text/plain": [
       "   loan_amnt        term  int_rate  installment grade home_ownership  \\\n",
       "0       2400   36 months     15.96        84.33     C           RENT   \n",
       "1      10000   36 months     13.49       339.31     C           RENT   \n",
       "3       5000   36 months      7.90       156.46     A           RENT   \n",
       "4       7000   60 months     15.96       170.08     C           RENT   \n",
       "5       3000   36 months     18.64       109.43     E           RENT   \n",
       "\n",
       "   annual_inc verification_status  loan_status             purpose    dti  \\\n",
       "0     12252.0        Not Verified            0      small_business   8.72   \n",
       "1     49200.0     Source Verified            0               other  20.00   \n",
       "3     36000.0     Source Verified            0             wedding  11.20   \n",
       "4     47004.0        Not Verified            0  debt_consolidation  23.51   \n",
       "5     48000.0     Source Verified            0                 car   5.35   \n",
       "\n",
       "   emp_length  \n",
       "0          10  \n",
       "1          10  \n",
       "3           3  \n",
       "4           8  \n",
       "5           9  "
      ]
     },
     "execution_count": 18,
     "metadata": {},
     "output_type": "execute_result"
    }
   ],
   "source": [
    "#convert object datatype to int64 \n",
    "df2['int_rate'] = df1_new['int_rate'].apply(lambda x:pd.to_numeric(x.split('%')[0]))\n",
    "import re\n",
    "df2['emp_length'] = df1_new['emp_length'].apply(lambda x: pd.to_numeric(re.findall('\\d+',str(x))[0]))\n",
    "df2.head(5)"
   ]
  },
  {
   "cell_type": "markdown",
   "id": "c99d7ac4",
   "metadata": {},
   "source": [
    "### Data Analysis"
   ]
  },
  {
   "cell_type": "markdown",
   "id": "55b418c4",
   "metadata": {},
   "source": [
    "#### ~Univariate Analysis"
   ]
  },
  {
   "cell_type": "code",
   "execution_count": 19,
   "id": "06434461",
   "metadata": {},
   "outputs": [
    {
     "data": {
      "text/plain": [
       "0.14"
      ]
     },
     "execution_count": 19,
     "metadata": {},
     "output_type": "execute_result"
    }
   ],
   "source": [
    "# default rate\n",
    "round(np.mean(df2['loan_status']), 2)"
   ]
  },
  {
   "cell_type": "code",
   "execution_count": 20,
   "id": "7d436695",
   "metadata": {},
   "outputs": [
    {
     "data": {
      "text/plain": [
       "<AxesSubplot:xlabel='int_rate', ylabel='loan_status'>"
      ]
     },
     "execution_count": 20,
     "metadata": {},
     "output_type": "execute_result"
    },
    {
     "data": {
      "image/png": "[encoded data removed]",
      "text/plain": [
       "<Figure size 432x288 with 1 Axes>"
      ]
     },
     "metadata": {
      "needs_background": "light"
     },
     "output_type": "display_data"
    }
   ],
   "source": [
    "# plotting default rates across interest rate of the loan\n",
    "def int_rate(n):\n",
    "    if n <= 10:\n",
    "        return 'low'\n",
    "    elif n > 10 and n <=15:\n",
    "        return 'medium'\n",
    "    else:\n",
    "        return 'high'\n",
    "   \n",
    "df3 = df2.copy()\n",
    "df3['int_rate'] = df2['int_rate'].apply(lambda x: int_rate(x))\n",
    "sns.barplot(x = 'int_rate',y = 'loan_status',data = df3)"
   ]
  },
  {
   "cell_type": "code",
   "execution_count": 21,
   "id": "0f56d105",
   "metadata": {},
   "outputs": [
    {
     "data": {
      "text/plain": [
       "<AxesSubplot:xlabel='emp_length', ylabel='loan_status'>"
      ]
     },
     "execution_count": 21,
     "metadata": {},
     "output_type": "execute_result"
    },
    {
     "data": {
      "image/png": "[encoded data removed]",
      "text/plain": [
       "<Figure size 432x288 with 1 Axes>"
      ]
     },
     "metadata": {
      "needs_background": "light"
     },
     "output_type": "display_data"
    }
   ],
   "source": [
    "# plotting default rates across employment experience in year\n",
    "def emp_length(n):\n",
    "    if n <= 1:\n",
    "        return 'fresher'\n",
    "    elif n > 1 and n <=3:\n",
    "        return 'junior'\n",
    "    elif n > 3 and n <=7:\n",
    "        return 'senior'\n",
    "    else:\n",
    "        return 'expert'\n",
    "\n",
    "df3['emp_length'] = df2['emp_length'].apply(lambda x: emp_length(x))\n",
    "sns.barplot(x = 'emp_length',y = 'loan_status',data = df3,order = ['fresher','junior','senior','expert'])"
   ]
  },
  {
   "cell_type": "code",
   "execution_count": 22,
   "id": "34d1a395",
   "metadata": {},
   "outputs": [
    {
     "data": {
      "text/plain": [
       "<AxesSubplot:xlabel='loan_amnt', ylabel='loan_status'>"
      ]
     },
     "execution_count": 22,
     "metadata": {},
     "output_type": "execute_result"
    },
    {
     "data": {
      "image/png": "[encoded data removed]",
      "text/plain": [
       "<Figure size 432x288 with 1 Axes>"
      ]
     },
     "metadata": {
      "needs_background": "light"
     },
     "output_type": "display_data"
    }
   ],
   "source": [
    "# plotting default rates across loan amount\n",
    "def loan_amount(n):\n",
    "    if n < 5000:\n",
    "        return 'low'\n",
    "    elif n >=5000 and n < 15000:\n",
    "        return 'medium'\n",
    "    elif n >= 15000 and n < 25000:\n",
    "        return 'high'\n",
    "    else:\n",
    "        return 'very high'\n",
    "        \n",
    "df3['loan_amnt'] = df2['loan_amnt'].apply(lambda x: loan_amount(x))\n",
    "sns.barplot(x = 'loan_amnt',y = 'loan_status',data = df3)"
   ]
  },
  {
   "cell_type": "code",
   "execution_count": 23,
   "id": "702a5dd2",
   "metadata": {},
   "outputs": [
    {
     "data": {
      "text/plain": [
       "<AxesSubplot:xlabel='dti', ylabel='loan_status'>"
      ]
     },
     "execution_count": 23,
     "metadata": {},
     "output_type": "execute_result"
    },
    {
     "data": {
      "image/png": "[encoded data removed]",
      "text/plain": [
       "<Figure size 432x288 with 1 Axes>"
      ]
     },
     "metadata": {
      "needs_background": "light"
     },
     "output_type": "display_data"
    }
   ],
   "source": [
    "# plotting default rates across debt to income ratio\n",
    "def dti(n):\n",
    "    if n <= 10:\n",
    "        return 'low'\n",
    "    elif n > 10 and n <=20:\n",
    "        return 'medium'\n",
    "    else:\n",
    "        return 'high'\n",
    "\n",
    "df3['dti'] = df2['dti'].apply(lambda x: dti(x))\n",
    "sns.barplot(x = 'dti',y = 'loan_status',data = df3)"
   ]
  },
  {
   "cell_type": "code",
   "execution_count": 24,
   "id": "7863da07",
   "metadata": {},
   "outputs": [
    {
     "data": {
      "text/plain": [
       "<AxesSubplot:xlabel='installment', ylabel='loan_status'>"
      ]
     },
     "execution_count": 24,
     "metadata": {},
     "output_type": "execute_result"
    },
    {
     "data": {
      "image/png": "[encoded data removed]",
      "text/plain": [
       "<Figure size 432x288 with 1 Axes>"
      ]
     },
     "metadata": {
      "needs_background": "light"
     },
     "output_type": "display_data"
    }
   ],
   "source": [
    "# plotting default rates across installment\n",
    "def installment(n):\n",
    "    if n <= 200:\n",
    "        return 'low'\n",
    "    elif n > 200 and n <=400:\n",
    "        return 'medium'\n",
    "    elif n > 400 and n <=600:\n",
    "        return 'high'\n",
    "    else:\n",
    "        return 'very high'\n",
    "   \n",
    "df3['installment'] = df2['installment'].apply(lambda x: installment(x))\n",
    "sns.barplot(x = 'installment',y = 'loan_status',data = df3)"
   ]
  },
  {
   "cell_type": "code",
   "execution_count": 25,
   "id": "16d73710",
   "metadata": {},
   "outputs": [
    {
     "data": {
      "text/plain": [
       "<AxesSubplot:xlabel='annual_inc', ylabel='loan_status'>"
      ]
     },
     "execution_count": 25,
     "metadata": {},
     "output_type": "execute_result"
    },
    {
     "data": {
      "image/png": "[encoded data removed]",
      "text/plain": [
       "<Figure size 432x288 with 1 Axes>"
      ]
     },
     "metadata": {
      "needs_background": "light"
     },
     "output_type": "display_data"
    }
   ],
   "source": [
    "# plotting default rates across annual income\n",
    "def annual_income(n):\n",
    "    if n <= 50000:\n",
    "        return 'low'\n",
    "    elif n > 50000 and n <=100000:\n",
    "        return 'medium'\n",
    "    elif n > 100000 and n <=150000:\n",
    "        return 'high'\n",
    "    else:\n",
    "        return 'very high'\n",
    "\n",
    "df3['annual_inc'] = df2['annual_inc'].apply(lambda x: annual_income(x))\n",
    "sns.barplot(x = 'annual_inc',y = 'loan_status',data = df3)"
   ]
  },
  {
   "cell_type": "code",
   "execution_count": 26,
   "id": "cc22a163",
   "metadata": {},
   "outputs": [
    {
     "data": {
      "text/plain": [
       "<AxesSubplot:xlabel='term', ylabel='loan_status'>"
      ]
     },
     "execution_count": 26,
     "metadata": {},
     "output_type": "execute_result"
    },
    {
     "data": {
      "image/png": "[encoded data removed]",
      "text/plain": [
       "<Figure size 432x288 with 1 Axes>"
      ]
     },
     "metadata": {
      "needs_background": "light"
     },
     "output_type": "display_data"
    }
   ],
   "source": [
    "# plotting default rates across term\n",
    "sns.barplot(x = 'term',y = 'loan_status',data = df2)"
   ]
  },
  {
   "cell_type": "code",
   "execution_count": 27,
   "id": "f35e4b77",
   "metadata": {},
   "outputs": [
    {
     "data": {
      "text/plain": [
       "<AxesSubplot:xlabel='grade', ylabel='loan_status'>"
      ]
     },
     "execution_count": 27,
     "metadata": {},
     "output_type": "execute_result"
    },
    {
     "data": {
      "image/png": "[encoded data removed]",
      "text/plain": [
       "<Figure size 432x288 with 1 Axes>"
      ]
     },
     "metadata": {
      "needs_background": "light"
     },
     "output_type": "display_data"
    }
   ],
   "source": [
    "# plotting default rates across grade of loan\n",
    "sns.barplot(x = 'grade',y = 'loan_status',data = df2,order = ['A','B','C','D','E','F','G'])"
   ]
  },
  {
   "cell_type": "code",
   "execution_count": 28,
   "id": "687b879b",
   "metadata": {},
   "outputs": [
    {
     "data": {
      "text/plain": [
       "<AxesSubplot:xlabel='home_ownership', ylabel='loan_status'>"
      ]
     },
     "execution_count": 28,
     "metadata": {},
     "output_type": "execute_result"
    },
    {
     "data": {
      "image/png": "[encoded data removed]",
      "text/plain": [
       "<Figure size 432x288 with 1 Axes>"
      ]
     },
     "metadata": {
      "needs_background": "light"
     },
     "output_type": "display_data"
    }
   ],
   "source": [
    "# plotting default rates across home_ownership\n",
    "sns.barplot(x = 'home_ownership',y = 'loan_status',data = df2,order = ['MORTGAGE','OWN','RENT','OTHER'])"
   ]
  },
  {
   "cell_type": "code",
   "execution_count": 29,
   "id": "315e477a",
   "metadata": {},
   "outputs": [
    {
     "data": {
      "text/plain": [
       "<AxesSubplot:xlabel='verification_status', ylabel='loan_status'>"
      ]
     },
     "execution_count": 29,
     "metadata": {},
     "output_type": "execute_result"
    },
    {
     "data": {
      "image/png": "[encoded data removed]",
      "text/plain": [
       "<Figure size 432x288 with 1 Axes>"
      ]
     },
     "metadata": {
      "needs_background": "light"
     },
     "output_type": "display_data"
    }
   ],
   "source": [
    "# plotting default rates across verification_status\n",
    "sns.barplot(x = 'verification_status',y = 'loan_status',data = df2)"
   ]
  },
  {
   "cell_type": "code",
   "execution_count": 30,
   "id": "ed31681c",
   "metadata": {},
   "outputs": [
    {
     "data": {
      "image/png": "[encoded data removed]",
      "text/plain": [
       "<Figure size 1440x720 with 1 Axes>"
      ]
     },
     "metadata": {
      "needs_background": "light"
     },
     "output_type": "display_data"
    }
   ],
   "source": [
    "# plotting default rates across purpose of the loan\n",
    "plt.figure(figsize = (20,10))\n",
    "sns.barplot(x = 'purpose',y = 'loan_status',data = df2)\n",
    "plt.show()"
   ]
  },
  {
   "cell_type": "code",
   "execution_count": 31,
   "id": "f40d2802",
   "metadata": {},
   "outputs": [
    {
     "data": {
      "image/png": "[encoded data removed]",
      "text/plain": [
       "<Figure size 1440x720 with 1 Axes>"
      ]
     },
     "metadata": {
      "needs_background": "light"
     },
     "output_type": "display_data"
    }
   ],
   "source": [
    "#count default for each purpose\n",
    "plt.figure(figsize=(20, 10))\n",
    "sns.countplot(x='purpose', data=df2)\n",
    "plt.show()"
   ]
  },
  {
   "cell_type": "markdown",
   "id": "57c7f788",
   "metadata": {},
   "source": [
    "####  ~Segmented Univariate Analysis"
   ]
  },
  {
   "cell_type": "code",
   "execution_count": 32,
   "id": "2421b10c",
   "metadata": {},
   "outputs": [
    {
     "data": {
      "text/plain": [
       "<AxesSubplot:xlabel='purpose', ylabel='count'>"
      ]
     },
     "execution_count": 32,
     "metadata": {},
     "output_type": "execute_result"
    },
    {
     "data": {
      "image/png": "[encoded data removed]",
      "text/plain": [
       "<Figure size 432x288 with 1 Axes>"
      ]
     },
     "metadata": {
      "needs_background": "light"
     },
     "output_type": "display_data"
    }
   ],
   "source": [
    "#filtering the dataframe according to major purpose\n",
    "df4 = df3.copy()\n",
    "df4 = df3[df3['purpose'].isin([\"credit_card\",\"debt_consolidation\",\"home_improvement\",\"major_purchase\"])]\n",
    "sns.countplot(x=df4['purpose'])"
   ]
  },
  {
   "cell_type": "code",
   "execution_count": 33,
   "id": "2d7e2cdc",
   "metadata": {},
   "outputs": [],
   "source": [
    "# function for segmented plot\n",
    "def plot_segmented(cat_var):\n",
    "    plt.figure(figsize=(10, 6))\n",
    "    sns.barplot(x=cat_var, y='loan_status', hue='purpose', data=df4)\n",
    "    plt.show()"
   ]
  },
  {
   "cell_type": "code",
   "execution_count": 34,
   "id": "09d359e4",
   "metadata": {},
   "outputs": [
    {
     "data": {
      "image/png": "[encoded data removed]",
      "text/plain": [
       "<Figure size 720x432 with 1 Axes>"
      ]
     },
     "metadata": {
      "needs_background": "light"
     },
     "output_type": "display_data"
    }
   ],
   "source": [
    "#term\n",
    "plot_segmented('term')"
   ]
  },
  {
   "cell_type": "code",
   "execution_count": 35,
   "id": "a9e5f2d8",
   "metadata": {},
   "outputs": [
    {
     "data": {
      "image/png": "[encoded data removed]",
      "text/plain": [
       "<Figure size 720x432 with 1 Axes>"
      ]
     },
     "metadata": {
      "needs_background": "light"
     },
     "output_type": "display_data"
    }
   ],
   "source": [
    "#grade\n",
    "plot_segmented('grade')"
   ]
  },
  {
   "cell_type": "code",
   "execution_count": 36,
   "id": "8782178b",
   "metadata": {},
   "outputs": [
    {
     "data": {
      "image/png": "[encoded data removed]",
      "text/plain": [
       "<Figure size 720x432 with 1 Axes>"
      ]
     },
     "metadata": {
      "needs_background": "light"
     },
     "output_type": "display_data"
    }
   ],
   "source": [
    "#home ownership\n",
    "plot_segmented('home_ownership')"
   ]
  },
  {
   "cell_type": "code",
   "execution_count": 37,
   "id": "b53f88cb",
   "metadata": {},
   "outputs": [
    {
     "data": {
      "image/png": "[encoded data removed]",
      "text/plain": [
       "<Figure size 720x432 with 1 Axes>"
      ]
     },
     "metadata": {
      "needs_background": "light"
     },
     "output_type": "display_data"
    }
   ],
   "source": [
    "#employment experience\n",
    "plot_segmented('emp_length')"
   ]
  },
  {
   "cell_type": "code",
   "execution_count": 38,
   "id": "cc1b4482",
   "metadata": {},
   "outputs": [
    {
     "data": {
      "image/png": "[encoded data removed]",
      "text/plain": [
       "<Figure size 720x432 with 1 Axes>"
      ]
     },
     "metadata": {
      "needs_background": "light"
     },
     "output_type": "display_data"
    }
   ],
   "source": [
    "#interest rate\n",
    "plot_segmented('int_rate')"
   ]
  },
  {
   "cell_type": "code",
   "execution_count": 39,
   "id": "9a8f1099",
   "metadata": {},
   "outputs": [
    {
     "data": {
      "image/png": "[encoded data removed]",
      "text/plain": [
       "<Figure size 720x432 with 1 Axes>"
      ]
     },
     "metadata": {
      "needs_background": "light"
     },
     "output_type": "display_data"
    }
   ],
   "source": [
    "# installment\n",
    "plot_segmented('installment')"
   ]
  },
  {
   "cell_type": "code",
   "execution_count": 40,
   "id": "dd463cdd",
   "metadata": {},
   "outputs": [
    {
     "data": {
      "image/png": "[encoded data removed]",
      "text/plain": [
       "<Figure size 720x432 with 1 Axes>"
      ]
     },
     "metadata": {
      "needs_background": "light"
     },
     "output_type": "display_data"
    }
   ],
   "source": [
    "#debt to income ratio\n",
    "plot_segmented('dti')"
   ]
  },
  {
   "cell_type": "code",
   "execution_count": 41,
   "id": "a3bd3cb6",
   "metadata": {},
   "outputs": [
    {
     "data": {
      "image/png": "[encoded data removed]",
      "text/plain": [
       "<Figure size 720x432 with 1 Axes>"
      ]
     },
     "metadata": {
      "needs_background": "light"
     },
     "output_type": "display_data"
    }
   ],
   "source": [
    "#annual income\n",
    "plot_segmented('annual_inc')"
   ]
  },
  {
   "cell_type": "markdown",
   "id": "15bf03b1",
   "metadata": {},
   "source": [
    "### Build a prediction model"
   ]
  },
  {
   "cell_type": "code",
   "execution_count": 42,
   "id": "3419615f",
   "metadata": {
    "scrolled": true
   },
   "outputs": [
    {
     "data": {
      "text/html": [
       "<div>\n",
       "<style scoped>\n",
       "    .dataframe tbody tr th:only-of-type {\n",
       "        vertical-align: middle;\n",
       "    }\n",
       "\n",
       "    .dataframe tbody tr th {\n",
       "        vertical-align: top;\n",
       "    }\n",
       "\n",
       "    .dataframe thead th {\n",
       "        text-align: right;\n",
       "    }\n",
       "</style>\n",
       "<table border=\"1\" class=\"dataframe\">\n",
       "  <thead>\n",
       "    <tr style=\"text-align: right;\">\n",
       "      <th></th>\n",
       "      <th>loan_amnt</th>\n",
       "      <th>term</th>\n",
       "      <th>int_rate</th>\n",
       "      <th>installment</th>\n",
       "      <th>grade</th>\n",
       "      <th>home_ownership</th>\n",
       "      <th>annual_inc</th>\n",
       "      <th>verification_status</th>\n",
       "      <th>loan_status</th>\n",
       "      <th>purpose</th>\n",
       "      <th>dti</th>\n",
       "      <th>emp_length</th>\n",
       "    </tr>\n",
       "  </thead>\n",
       "  <tbody>\n",
       "    <tr>\n",
       "      <th>0</th>\n",
       "      <td>2400</td>\n",
       "      <td>36 months</td>\n",
       "      <td>15.96%</td>\n",
       "      <td>84.33</td>\n",
       "      <td>C</td>\n",
       "      <td>RENT</td>\n",
       "      <td>12252.0</td>\n",
       "      <td>Not Verified</td>\n",
       "      <td>Fully Paid</td>\n",
       "      <td>small_business</td>\n",
       "      <td>8.72</td>\n",
       "      <td>10+ years</td>\n",
       "    </tr>\n",
       "    <tr>\n",
       "      <th>1</th>\n",
       "      <td>10000</td>\n",
       "      <td>36 months</td>\n",
       "      <td>13.49%</td>\n",
       "      <td>339.31</td>\n",
       "      <td>C</td>\n",
       "      <td>RENT</td>\n",
       "      <td>49200.0</td>\n",
       "      <td>Source Verified</td>\n",
       "      <td>Fully Paid</td>\n",
       "      <td>other</td>\n",
       "      <td>20.00</td>\n",
       "      <td>10+ years</td>\n",
       "    </tr>\n",
       "    <tr>\n",
       "      <th>2</th>\n",
       "      <td>3000</td>\n",
       "      <td>60 months</td>\n",
       "      <td>12.69%</td>\n",
       "      <td>67.79</td>\n",
       "      <td>B</td>\n",
       "      <td>RENT</td>\n",
       "      <td>80000.0</td>\n",
       "      <td>Source Verified</td>\n",
       "      <td>Current</td>\n",
       "      <td>other</td>\n",
       "      <td>17.94</td>\n",
       "      <td>1 year</td>\n",
       "    </tr>\n",
       "    <tr>\n",
       "      <th>3</th>\n",
       "      <td>5000</td>\n",
       "      <td>36 months</td>\n",
       "      <td>7.90%</td>\n",
       "      <td>156.46</td>\n",
       "      <td>A</td>\n",
       "      <td>RENT</td>\n",
       "      <td>36000.0</td>\n",
       "      <td>Source Verified</td>\n",
       "      <td>Fully Paid</td>\n",
       "      <td>wedding</td>\n",
       "      <td>11.20</td>\n",
       "      <td>3 years</td>\n",
       "    </tr>\n",
       "    <tr>\n",
       "      <th>4</th>\n",
       "      <td>7000</td>\n",
       "      <td>60 months</td>\n",
       "      <td>15.96%</td>\n",
       "      <td>170.08</td>\n",
       "      <td>C</td>\n",
       "      <td>RENT</td>\n",
       "      <td>47004.0</td>\n",
       "      <td>Not Verified</td>\n",
       "      <td>Fully Paid</td>\n",
       "      <td>debt_consolidation</td>\n",
       "      <td>23.51</td>\n",
       "      <td>8 years</td>\n",
       "    </tr>\n",
       "    <tr>\n",
       "      <th>5</th>\n",
       "      <td>3000</td>\n",
       "      <td>36 months</td>\n",
       "      <td>18.64%</td>\n",
       "      <td>109.43</td>\n",
       "      <td>E</td>\n",
       "      <td>RENT</td>\n",
       "      <td>48000.0</td>\n",
       "      <td>Source Verified</td>\n",
       "      <td>Fully Paid</td>\n",
       "      <td>car</td>\n",
       "      <td>5.35</td>\n",
       "      <td>9 years</td>\n",
       "    </tr>\n",
       "    <tr>\n",
       "      <th>6</th>\n",
       "      <td>5600</td>\n",
       "      <td>60 months</td>\n",
       "      <td>21.28%</td>\n",
       "      <td>152.39</td>\n",
       "      <td>F</td>\n",
       "      <td>OWN</td>\n",
       "      <td>40000.0</td>\n",
       "      <td>Source Verified</td>\n",
       "      <td>Charged Off</td>\n",
       "      <td>small_business</td>\n",
       "      <td>5.55</td>\n",
       "      <td>4 years</td>\n",
       "    </tr>\n",
       "    <tr>\n",
       "      <th>7</th>\n",
       "      <td>5375</td>\n",
       "      <td>60 months</td>\n",
       "      <td>12.69%</td>\n",
       "      <td>121.45</td>\n",
       "      <td>B</td>\n",
       "      <td>RENT</td>\n",
       "      <td>15000.0</td>\n",
       "      <td>Verified</td>\n",
       "      <td>Charged Off</td>\n",
       "      <td>other</td>\n",
       "      <td>18.08</td>\n",
       "      <td>&lt; 1 year</td>\n",
       "    </tr>\n",
       "    <tr>\n",
       "      <th>8</th>\n",
       "      <td>6500</td>\n",
       "      <td>60 months</td>\n",
       "      <td>14.65%</td>\n",
       "      <td>153.45</td>\n",
       "      <td>C</td>\n",
       "      <td>OWN</td>\n",
       "      <td>72000.0</td>\n",
       "      <td>Not Verified</td>\n",
       "      <td>Fully Paid</td>\n",
       "      <td>debt_consolidation</td>\n",
       "      <td>16.12</td>\n",
       "      <td>5 years</td>\n",
       "    </tr>\n",
       "    <tr>\n",
       "      <th>9</th>\n",
       "      <td>12000</td>\n",
       "      <td>36 months</td>\n",
       "      <td>12.69%</td>\n",
       "      <td>402.54</td>\n",
       "      <td>B</td>\n",
       "      <td>OWN</td>\n",
       "      <td>75000.0</td>\n",
       "      <td>Source Verified</td>\n",
       "      <td>Fully Paid</td>\n",
       "      <td>debt_consolidation</td>\n",
       "      <td>10.78</td>\n",
       "      <td>10+ years</td>\n",
       "    </tr>\n",
       "  </tbody>\n",
       "</table>\n",
       "</div>"
      ],
      "text/plain": [
       "   loan_amnt        term int_rate  installment grade home_ownership  \\\n",
       "0       2400   36 months   15.96%        84.33     C           RENT   \n",
       "1      10000   36 months   13.49%       339.31     C           RENT   \n",
       "2       3000   60 months   12.69%        67.79     B           RENT   \n",
       "3       5000   36 months    7.90%       156.46     A           RENT   \n",
       "4       7000   60 months   15.96%       170.08     C           RENT   \n",
       "5       3000   36 months   18.64%       109.43     E           RENT   \n",
       "6       5600   60 months   21.28%       152.39     F            OWN   \n",
       "7       5375   60 months   12.69%       121.45     B           RENT   \n",
       "8       6500   60 months   14.65%       153.45     C            OWN   \n",
       "9      12000   36 months   12.69%       402.54     B            OWN   \n",
       "\n",
       "   annual_inc verification_status  loan_status             purpose    dti  \\\n",
       "0     12252.0        Not Verified   Fully Paid      small_business   8.72   \n",
       "1     49200.0     Source Verified   Fully Paid               other  20.00   \n",
       "2     80000.0     Source Verified      Current               other  17.94   \n",
       "3     36000.0     Source Verified   Fully Paid             wedding  11.20   \n",
       "4     47004.0        Not Verified   Fully Paid  debt_consolidation  23.51   \n",
       "5     48000.0     Source Verified   Fully Paid                 car   5.35   \n",
       "6     40000.0     Source Verified  Charged Off      small_business   5.55   \n",
       "7     15000.0            Verified  Charged Off               other  18.08   \n",
       "8     72000.0        Not Verified   Fully Paid  debt_consolidation  16.12   \n",
       "9     75000.0     Source Verified   Fully Paid  debt_consolidation  10.78   \n",
       "\n",
       "  emp_length  \n",
       "0  10+ years  \n",
       "1  10+ years  \n",
       "2     1 year  \n",
       "3    3 years  \n",
       "4    8 years  \n",
       "5    9 years  \n",
       "6    4 years  \n",
       "7   < 1 year  \n",
       "8    5 years  \n",
       "9  10+ years  "
      ]
     },
     "execution_count": 42,
     "metadata": {},
     "output_type": "execute_result"
    }
   ],
   "source": [
    "df1.head(10)"
   ]
  },
  {
   "cell_type": "markdown",
   "id": "7ed13680",
   "metadata": {},
   "source": [
    "#### ~Labelencoding for categorical variable "
   ]
  },
  {
   "cell_type": "code",
   "execution_count": 43,
   "id": "89013fc4",
   "metadata": {
    "scrolled": true
   },
   "outputs": [
    {
     "data": {
      "text/html": [
       "<div>\n",
       "<style scoped>\n",
       "    .dataframe tbody tr th:only-of-type {\n",
       "        vertical-align: middle;\n",
       "    }\n",
       "\n",
       "    .dataframe tbody tr th {\n",
       "        vertical-align: top;\n",
       "    }\n",
       "\n",
       "    .dataframe thead th {\n",
       "        text-align: right;\n",
       "    }\n",
       "</style>\n",
       "<table border=\"1\" class=\"dataframe\">\n",
       "  <thead>\n",
       "    <tr style=\"text-align: right;\">\n",
       "      <th></th>\n",
       "      <th>loan_amnt</th>\n",
       "      <th>term</th>\n",
       "      <th>int_rate</th>\n",
       "      <th>installment</th>\n",
       "      <th>grade</th>\n",
       "      <th>home_ownership</th>\n",
       "      <th>annual_inc</th>\n",
       "      <th>verification_status</th>\n",
       "      <th>loan_status</th>\n",
       "      <th>purpose</th>\n",
       "      <th>dti</th>\n",
       "      <th>emp_length</th>\n",
       "    </tr>\n",
       "  </thead>\n",
       "  <tbody>\n",
       "    <tr>\n",
       "      <th>0</th>\n",
       "      <td>2400</td>\n",
       "      <td>0</td>\n",
       "      <td>15.96%</td>\n",
       "      <td>84.33</td>\n",
       "      <td>2</td>\n",
       "      <td>RENT</td>\n",
       "      <td>12252.0</td>\n",
       "      <td>0</td>\n",
       "      <td>Fully Paid</td>\n",
       "      <td>small_business</td>\n",
       "      <td>8.72</td>\n",
       "      <td>10+ years</td>\n",
       "    </tr>\n",
       "    <tr>\n",
       "      <th>1</th>\n",
       "      <td>10000</td>\n",
       "      <td>0</td>\n",
       "      <td>13.49%</td>\n",
       "      <td>339.31</td>\n",
       "      <td>2</td>\n",
       "      <td>RENT</td>\n",
       "      <td>49200.0</td>\n",
       "      <td>1</td>\n",
       "      <td>Fully Paid</td>\n",
       "      <td>other</td>\n",
       "      <td>20.00</td>\n",
       "      <td>10+ years</td>\n",
       "    </tr>\n",
       "    <tr>\n",
       "      <th>2</th>\n",
       "      <td>3000</td>\n",
       "      <td>1</td>\n",
       "      <td>12.69%</td>\n",
       "      <td>67.79</td>\n",
       "      <td>1</td>\n",
       "      <td>RENT</td>\n",
       "      <td>80000.0</td>\n",
       "      <td>1</td>\n",
       "      <td>Current</td>\n",
       "      <td>other</td>\n",
       "      <td>17.94</td>\n",
       "      <td>1 year</td>\n",
       "    </tr>\n",
       "    <tr>\n",
       "      <th>3</th>\n",
       "      <td>5000</td>\n",
       "      <td>0</td>\n",
       "      <td>7.90%</td>\n",
       "      <td>156.46</td>\n",
       "      <td>0</td>\n",
       "      <td>RENT</td>\n",
       "      <td>36000.0</td>\n",
       "      <td>1</td>\n",
       "      <td>Fully Paid</td>\n",
       "      <td>wedding</td>\n",
       "      <td>11.20</td>\n",
       "      <td>3 years</td>\n",
       "    </tr>\n",
       "    <tr>\n",
       "      <th>4</th>\n",
       "      <td>7000</td>\n",
       "      <td>1</td>\n",
       "      <td>15.96%</td>\n",
       "      <td>170.08</td>\n",
       "      <td>2</td>\n",
       "      <td>RENT</td>\n",
       "      <td>47004.0</td>\n",
       "      <td>0</td>\n",
       "      <td>Fully Paid</td>\n",
       "      <td>debt_consolidation</td>\n",
       "      <td>23.51</td>\n",
       "      <td>8 years</td>\n",
       "    </tr>\n",
       "  </tbody>\n",
       "</table>\n",
       "</div>"
      ],
      "text/plain": [
       "   loan_amnt  term int_rate  installment  grade home_ownership  annual_inc  \\\n",
       "0       2400     0   15.96%        84.33      2           RENT     12252.0   \n",
       "1      10000     0   13.49%       339.31      2           RENT     49200.0   \n",
       "2       3000     1   12.69%        67.79      1           RENT     80000.0   \n",
       "3       5000     0    7.90%       156.46      0           RENT     36000.0   \n",
       "4       7000     1   15.96%       170.08      2           RENT     47004.0   \n",
       "\n",
       "   verification_status loan_status             purpose    dti emp_length  \n",
       "0                    0  Fully Paid      small_business   8.72  10+ years  \n",
       "1                    1  Fully Paid               other  20.00  10+ years  \n",
       "2                    1     Current               other  17.94     1 year  \n",
       "3                    1  Fully Paid             wedding  11.20    3 years  \n",
       "4                    0  Fully Paid  debt_consolidation  23.51    8 years  "
      ]
     },
     "execution_count": 43,
     "metadata": {},
     "output_type": "execute_result"
    }
   ],
   "source": [
    "from sklearn.preprocessing import LabelEncoder\n",
    "le = LabelEncoder()\n",
    "dfle = df1.copy()\n",
    "dfle.term = le.fit_transform(dfle.term)\n",
    "dfle.grade = le.fit_transform(dfle.grade)\n",
    "dfle.verification_status = le.fit_transform(dfle.verification_status)\n",
    "dfle.head()"
   ]
  },
  {
   "cell_type": "markdown",
   "id": "19e7191d",
   "metadata": {},
   "source": [
    "#### ~Encoding for Ordinal categorical variable"
   ]
  },
  {
   "cell_type": "code",
   "execution_count": 44,
   "id": "2730f599",
   "metadata": {},
   "outputs": [],
   "source": [
    "X = dfle[['home_ownership','purpose']]\n",
    "y = dfle.loan_status"
   ]
  },
  {
   "cell_type": "code",
   "execution_count": 45,
   "id": "9aacc7d6",
   "metadata": {},
   "outputs": [
    {
     "data": {
      "text/html": [
       "<div>\n",
       "<style scoped>\n",
       "    .dataframe tbody tr th:only-of-type {\n",
       "        vertical-align: middle;\n",
       "    }\n",
       "\n",
       "    .dataframe tbody tr th {\n",
       "        vertical-align: top;\n",
       "    }\n",
       "\n",
       "    .dataframe thead th {\n",
       "        text-align: right;\n",
       "    }\n",
       "</style>\n",
       "<table border=\"1\" class=\"dataframe\">\n",
       "  <thead>\n",
       "    <tr style=\"text-align: right;\">\n",
       "      <th></th>\n",
       "      <th>home_ownership_encoder</th>\n",
       "      <th>purpose_encoder</th>\n",
       "    </tr>\n",
       "  </thead>\n",
       "  <tbody>\n",
       "    <tr>\n",
       "      <th>0</th>\n",
       "      <td>2</td>\n",
       "      <td>13</td>\n",
       "    </tr>\n",
       "    <tr>\n",
       "      <th>1</th>\n",
       "      <td>2</td>\n",
       "      <td>9</td>\n",
       "    </tr>\n",
       "    <tr>\n",
       "      <th>2</th>\n",
       "      <td>2</td>\n",
       "      <td>9</td>\n",
       "    </tr>\n",
       "    <tr>\n",
       "      <th>3</th>\n",
       "      <td>2</td>\n",
       "      <td>0</td>\n",
       "    </tr>\n",
       "    <tr>\n",
       "      <th>4</th>\n",
       "      <td>2</td>\n",
       "      <td>6</td>\n",
       "    </tr>\n",
       "    <tr>\n",
       "      <th>...</th>\n",
       "      <td>...</td>\n",
       "      <td>...</td>\n",
       "    </tr>\n",
       "    <tr>\n",
       "      <th>39710</th>\n",
       "      <td>0</td>\n",
       "      <td>4</td>\n",
       "    </tr>\n",
       "    <tr>\n",
       "      <th>39711</th>\n",
       "      <td>2</td>\n",
       "      <td>2</td>\n",
       "    </tr>\n",
       "    <tr>\n",
       "      <th>39712</th>\n",
       "      <td>0</td>\n",
       "      <td>6</td>\n",
       "    </tr>\n",
       "    <tr>\n",
       "      <th>39713</th>\n",
       "      <td>0</td>\n",
       "      <td>9</td>\n",
       "    </tr>\n",
       "    <tr>\n",
       "      <th>39714</th>\n",
       "      <td>1</td>\n",
       "      <td>6</td>\n",
       "    </tr>\n",
       "  </tbody>\n",
       "</table>\n",
       "<p>39715 rows × 2 columns</p>\n",
       "</div>"
      ],
      "text/plain": [
       "       home_ownership_encoder  purpose_encoder\n",
       "0                           2               13\n",
       "1                           2                9\n",
       "2                           2                9\n",
       "3                           2                0\n",
       "4                           2                6\n",
       "...                       ...              ...\n",
       "39710                       0                4\n",
       "39711                       2                2\n",
       "39712                       0                6\n",
       "39713                       0                9\n",
       "39714                       1                6\n",
       "\n",
       "[39715 rows x 2 columns]"
      ]
     },
     "execution_count": 45,
     "metadata": {},
     "output_type": "execute_result"
    }
   ],
   "source": [
    "from sklearn.preprocessing import OrdinalEncoder\n",
    "oe = OrdinalEncoder(categories=[['MORTGAGE','OWN','RENT','OTHER','NONE'],['wedding','major_purchase','credit_card','car','home_improvement',\n",
    "                                 'vacation','debt_consolidation','moving','medical','other','educational','house','renewable_energy','small_business']],\n",
    "                                dtype='int32')\n",
    "X_oe = oe.fit_transform(X)\n",
    "encoder = pd.DataFrame(X_oe,columns = ['home_ownership_encoder','purpose_encoder'])\n",
    "encoder"
   ]
  },
  {
   "cell_type": "code",
   "execution_count": 83,
   "id": "b0df94c3",
   "metadata": {},
   "outputs": [
    {
     "data": {
      "text/plain": [
       "(39715, 14)"
      ]
     },
     "execution_count": 83,
     "metadata": {},
     "output_type": "execute_result"
    }
   ],
   "source": [
    "dfle1= pd.concat([dfle,encoder],axis = 1)\n",
    "dfle1.shape"
   ]
  },
  {
   "cell_type": "code",
   "execution_count": 84,
   "id": "b4dfe03e",
   "metadata": {},
   "outputs": [
    {
     "data": {
      "text/plain": [
       "(37542, 14)"
      ]
     },
     "execution_count": 84,
     "metadata": {},
     "output_type": "execute_result"
    }
   ],
   "source": [
    "dfle2= dfle1[dfle1.isnull().sum(axis=1)==0]\n",
    "dfle2 = dfle2[dfle2.loan_status != 'Current']\n",
    "dfle2.shape"
   ]
  },
  {
   "cell_type": "code",
   "execution_count": 145,
   "id": "9201fe52",
   "metadata": {},
   "outputs": [
    {
     "data": {
      "text/plain": [
       "0    32144\n",
       "1     5398\n",
       "Name: loan_status, dtype: int64"
      ]
     },
     "execution_count": 145,
     "metadata": {},
     "output_type": "execute_result"
    }
   ],
   "source": [
    "dfle3 = dfle2.copy()\n",
    "dfle3['loan_status'] = dfle2['loan_status'].apply(lambda x: 0 if x == 'Fully Paid' else 1)\n",
    "dfle3.loan_status.value_counts()"
   ]
  },
  {
   "cell_type": "code",
   "execution_count": 146,
   "id": "4ca8ebf6",
   "metadata": {},
   "outputs": [
    {
     "data": {
      "text/plain": [
       "(37539, 14)"
      ]
     },
     "execution_count": 146,
     "metadata": {},
     "output_type": "execute_result"
    }
   ],
   "source": [
    "dfle3 = dfle3[dfle3.home_ownership != 'NONE']\n",
    "dfle3.shape"
   ]
  },
  {
   "cell_type": "code",
   "execution_count": 150,
   "id": "32dea0bb",
   "metadata": {},
   "outputs": [
    {
     "data": {
      "text/html": [
       "<div>\n",
       "<style scoped>\n",
       "    .dataframe tbody tr th:only-of-type {\n",
       "        vertical-align: middle;\n",
       "    }\n",
       "\n",
       "    .dataframe tbody tr th {\n",
       "        vertical-align: top;\n",
       "    }\n",
       "\n",
       "    .dataframe thead th {\n",
       "        text-align: right;\n",
       "    }\n",
       "</style>\n",
       "<table border=\"1\" class=\"dataframe\">\n",
       "  <thead>\n",
       "    <tr style=\"text-align: right;\">\n",
       "      <th></th>\n",
       "      <th>loan_amnt</th>\n",
       "      <th>term</th>\n",
       "      <th>int_rate</th>\n",
       "      <th>installment</th>\n",
       "      <th>grade</th>\n",
       "      <th>home_ownership</th>\n",
       "      <th>annual_inc</th>\n",
       "      <th>verification_status</th>\n",
       "      <th>loan_status</th>\n",
       "      <th>purpose</th>\n",
       "      <th>dti</th>\n",
       "      <th>emp_length</th>\n",
       "      <th>home_ownership_encoder</th>\n",
       "      <th>purpose_encoder</th>\n",
       "    </tr>\n",
       "  </thead>\n",
       "  <tbody>\n",
       "    <tr>\n",
       "      <th>27835</th>\n",
       "      <td>8000</td>\n",
       "      <td>0</td>\n",
       "      <td>13.23</td>\n",
       "      <td>270.44</td>\n",
       "      <td>2</td>\n",
       "      <td>MORTGAGE</td>\n",
       "      <td>73000.0</td>\n",
       "      <td>1</td>\n",
       "      <td>0</td>\n",
       "      <td>debt_consolidation</td>\n",
       "      <td>1.05</td>\n",
       "      <td>3</td>\n",
       "      <td>0</td>\n",
       "      <td>6</td>\n",
       "    </tr>\n",
       "    <tr>\n",
       "      <th>19994</th>\n",
       "      <td>8000</td>\n",
       "      <td>0</td>\n",
       "      <td>7.29</td>\n",
       "      <td>248.08</td>\n",
       "      <td>0</td>\n",
       "      <td>RENT</td>\n",
       "      <td>80000.0</td>\n",
       "      <td>1</td>\n",
       "      <td>1</td>\n",
       "      <td>major_purchase</td>\n",
       "      <td>10.81</td>\n",
       "      <td>10</td>\n",
       "      <td>2</td>\n",
       "      <td>1</td>\n",
       "    </tr>\n",
       "    <tr>\n",
       "      <th>12212</th>\n",
       "      <td>14000</td>\n",
       "      <td>0</td>\n",
       "      <td>9.99</td>\n",
       "      <td>451.68</td>\n",
       "      <td>1</td>\n",
       "      <td>OWN</td>\n",
       "      <td>47000.0</td>\n",
       "      <td>0</td>\n",
       "      <td>0</td>\n",
       "      <td>debt_consolidation</td>\n",
       "      <td>17.97</td>\n",
       "      <td>8</td>\n",
       "      <td>1</td>\n",
       "      <td>6</td>\n",
       "    </tr>\n",
       "    <tr>\n",
       "      <th>19888</th>\n",
       "      <td>13700</td>\n",
       "      <td>1</td>\n",
       "      <td>19.36</td>\n",
       "      <td>358.11</td>\n",
       "      <td>5</td>\n",
       "      <td>RENT</td>\n",
       "      <td>30000.0</td>\n",
       "      <td>0</td>\n",
       "      <td>1</td>\n",
       "      <td>other</td>\n",
       "      <td>19.88</td>\n",
       "      <td>1</td>\n",
       "      <td>2</td>\n",
       "      <td>9</td>\n",
       "    </tr>\n",
       "    <tr>\n",
       "      <th>20427</th>\n",
       "      <td>20000</td>\n",
       "      <td>1</td>\n",
       "      <td>16.40</td>\n",
       "      <td>490.63</td>\n",
       "      <td>4</td>\n",
       "      <td>MORTGAGE</td>\n",
       "      <td>82284.0</td>\n",
       "      <td>1</td>\n",
       "      <td>0</td>\n",
       "      <td>other</td>\n",
       "      <td>15.94</td>\n",
       "      <td>10</td>\n",
       "      <td>0</td>\n",
       "      <td>9</td>\n",
       "    </tr>\n",
       "  </tbody>\n",
       "</table>\n",
       "</div>"
      ],
      "text/plain": [
       "       loan_amnt  term  int_rate  installment  grade home_ownership  \\\n",
       "27835       8000     0     13.23       270.44      2       MORTGAGE   \n",
       "19994       8000     0      7.29       248.08      0           RENT   \n",
       "12212      14000     0      9.99       451.68      1            OWN   \n",
       "19888      13700     1     19.36       358.11      5           RENT   \n",
       "20427      20000     1     16.40       490.63      4       MORTGAGE   \n",
       "\n",
       "       annual_inc  verification_status  loan_status             purpose  \\\n",
       "27835     73000.0                    1            0  debt_consolidation   \n",
       "19994     80000.0                    1            1      major_purchase   \n",
       "12212     47000.0                    0            0  debt_consolidation   \n",
       "19888     30000.0                    0            1               other   \n",
       "20427     82284.0                    1            0               other   \n",
       "\n",
       "         dti  emp_length  home_ownership_encoder  purpose_encoder  \n",
       "27835   1.05           3                       0                6  \n",
       "19994  10.81          10                       2                1  \n",
       "12212  17.97           8                       1                6  \n",
       "19888  19.88           1                       2                9  \n",
       "20427  15.94          10                       0                9  "
      ]
     },
     "execution_count": 150,
     "metadata": {},
     "output_type": "execute_result"
    }
   ],
   "source": [
    "dfle3['int_rate'] = dfle2['int_rate'].apply(lambda x:pd.to_numeric(x.split('%')[0]))\n",
    "import re\n",
    "dfle3['emp_length'] = dfle2['emp_length'].apply(lambda x: pd.to_numeric(re.findall('\\d+',str(x))[0]))\n",
    "dfle3.sample(5)"
   ]
  },
  {
   "cell_type": "markdown",
   "id": "2b39d59f",
   "metadata": {},
   "source": [
    "#### ~Data Scaling"
   ]
  },
  {
   "cell_type": "code",
   "execution_count": 96,
   "id": "0fed2f20",
   "metadata": {},
   "outputs": [],
   "source": [
    "from scipy import stats \n",
    "from mlxtend.preprocessing import minmax_scaling"
   ]
  },
  {
   "cell_type": "code",
   "execution_count": 97,
   "id": "c4970b91",
   "metadata": {},
   "outputs": [
    {
     "data": {
      "text/html": [
       "<div>\n",
       "<style scoped>\n",
       "    .dataframe tbody tr th:only-of-type {\n",
       "        vertical-align: middle;\n",
       "    }\n",
       "\n",
       "    .dataframe tbody tr th {\n",
       "        vertical-align: top;\n",
       "    }\n",
       "\n",
       "    .dataframe thead th {\n",
       "        text-align: right;\n",
       "    }\n",
       "</style>\n",
       "<table border=\"1\" class=\"dataframe\">\n",
       "  <thead>\n",
       "    <tr style=\"text-align: right;\">\n",
       "      <th></th>\n",
       "      <th>loan_amnt</th>\n",
       "      <th>term</th>\n",
       "      <th>int_rate</th>\n",
       "      <th>installment</th>\n",
       "      <th>grade</th>\n",
       "      <th>home_ownership</th>\n",
       "      <th>annual_inc</th>\n",
       "      <th>verification_status</th>\n",
       "      <th>loan_status</th>\n",
       "      <th>purpose</th>\n",
       "      <th>dti</th>\n",
       "      <th>emp_length</th>\n",
       "      <th>home_ownership_encoder</th>\n",
       "      <th>purpose_encoder</th>\n",
       "    </tr>\n",
       "  </thead>\n",
       "  <tbody>\n",
       "    <tr>\n",
       "      <th>0</th>\n",
       "      <td>0.055072</td>\n",
       "      <td>0</td>\n",
       "      <td>15.96</td>\n",
       "      <td>0.053230</td>\n",
       "      <td>2</td>\n",
       "      <td>RENT</td>\n",
       "      <td>0.001376</td>\n",
       "      <td>0</td>\n",
       "      <td>0</td>\n",
       "      <td>small_business</td>\n",
       "      <td>8.72</td>\n",
       "      <td>10</td>\n",
       "      <td>2</td>\n",
       "      <td>13</td>\n",
       "    </tr>\n",
       "    <tr>\n",
       "      <th>1</th>\n",
       "      <td>0.275362</td>\n",
       "      <td>0</td>\n",
       "      <td>13.49</td>\n",
       "      <td>0.250965</td>\n",
       "      <td>2</td>\n",
       "      <td>RENT</td>\n",
       "      <td>0.007538</td>\n",
       "      <td>1</td>\n",
       "      <td>0</td>\n",
       "      <td>other</td>\n",
       "      <td>20.00</td>\n",
       "      <td>10</td>\n",
       "      <td>2</td>\n",
       "      <td>9</td>\n",
       "    </tr>\n",
       "    <tr>\n",
       "      <th>3</th>\n",
       "      <td>0.130435</td>\n",
       "      <td>0</td>\n",
       "      <td>7.90</td>\n",
       "      <td>0.109166</td>\n",
       "      <td>0</td>\n",
       "      <td>RENT</td>\n",
       "      <td>0.005337</td>\n",
       "      <td>1</td>\n",
       "      <td>0</td>\n",
       "      <td>wedding</td>\n",
       "      <td>11.20</td>\n",
       "      <td>3</td>\n",
       "      <td>2</td>\n",
       "      <td>0</td>\n",
       "    </tr>\n",
       "    <tr>\n",
       "      <th>4</th>\n",
       "      <td>0.188406</td>\n",
       "      <td>1</td>\n",
       "      <td>15.96</td>\n",
       "      <td>0.119729</td>\n",
       "      <td>2</td>\n",
       "      <td>RENT</td>\n",
       "      <td>0.007172</td>\n",
       "      <td>0</td>\n",
       "      <td>0</td>\n",
       "      <td>debt_consolidation</td>\n",
       "      <td>23.51</td>\n",
       "      <td>8</td>\n",
       "      <td>2</td>\n",
       "      <td>6</td>\n",
       "    </tr>\n",
       "    <tr>\n",
       "      <th>5</th>\n",
       "      <td>0.072464</td>\n",
       "      <td>0</td>\n",
       "      <td>18.64</td>\n",
       "      <td>0.072695</td>\n",
       "      <td>4</td>\n",
       "      <td>RENT</td>\n",
       "      <td>0.007338</td>\n",
       "      <td>1</td>\n",
       "      <td>0</td>\n",
       "      <td>car</td>\n",
       "      <td>5.35</td>\n",
       "      <td>9</td>\n",
       "      <td>2</td>\n",
       "      <td>3</td>\n",
       "    </tr>\n",
       "  </tbody>\n",
       "</table>\n",
       "</div>"
      ],
      "text/plain": [
       "   loan_amnt  term  int_rate  installment  grade home_ownership  annual_inc  \\\n",
       "0   0.055072     0     15.96     0.053230      2           RENT    0.001376   \n",
       "1   0.275362     0     13.49     0.250965      2           RENT    0.007538   \n",
       "3   0.130435     0      7.90     0.109166      0           RENT    0.005337   \n",
       "4   0.188406     1     15.96     0.119729      2           RENT    0.007172   \n",
       "5   0.072464     0     18.64     0.072695      4           RENT    0.007338   \n",
       "\n",
       "   verification_status  loan_status             purpose    dti  emp_length  \\\n",
       "0                    0            0      small_business   8.72          10   \n",
       "1                    1            0               other  20.00          10   \n",
       "3                    1            0             wedding  11.20           3   \n",
       "4                    0            0  debt_consolidation  23.51           8   \n",
       "5                    1            0                 car   5.35           9   \n",
       "\n",
       "   home_ownership_encoder  purpose_encoder  \n",
       "0                       2               13  \n",
       "1                       2                9  \n",
       "3                       2                0  \n",
       "4                       2                6  \n",
       "5                       2                3  "
      ]
     },
     "execution_count": 97,
     "metadata": {},
     "output_type": "execute_result"
    }
   ],
   "source": [
    "#loan amount(max:35000,min:500), installment(max:1305.19,min:15.69), Annual income(max:6000000.0,min:4000.0) \n",
    "col = ['loan_amnt','installment','annual_inc']\n",
    "for item in col:\n",
    "    dfle3[item] = minmax_scaling(dfle3[item],columns = [0])\n",
    "dfle3.head(5)"
   ]
  },
  {
   "cell_type": "code",
   "execution_count": 112,
   "id": "83509702",
   "metadata": {},
   "outputs": [
    {
     "data": {
      "text/html": [
       "<div>\n",
       "<style scoped>\n",
       "    .dataframe tbody tr th:only-of-type {\n",
       "        vertical-align: middle;\n",
       "    }\n",
       "\n",
       "    .dataframe tbody tr th {\n",
       "        vertical-align: top;\n",
       "    }\n",
       "\n",
       "    .dataframe thead th {\n",
       "        text-align: right;\n",
       "    }\n",
       "</style>\n",
       "<table border=\"1\" class=\"dataframe\">\n",
       "  <thead>\n",
       "    <tr style=\"text-align: right;\">\n",
       "      <th></th>\n",
       "      <th>loan_amnt</th>\n",
       "      <th>term</th>\n",
       "      <th>int_rate</th>\n",
       "      <th>installment</th>\n",
       "      <th>annual_inc</th>\n",
       "      <th>loan_status</th>\n",
       "      <th>dti</th>\n",
       "      <th>emp_length</th>\n",
       "      <th>home_ownership_encoder</th>\n",
       "      <th>purpose_encoder</th>\n",
       "    </tr>\n",
       "  </thead>\n",
       "  <tbody>\n",
       "    <tr>\n",
       "      <th>0</th>\n",
       "      <td>0.055072</td>\n",
       "      <td>0</td>\n",
       "      <td>15.96</td>\n",
       "      <td>0.053230</td>\n",
       "      <td>0.001376</td>\n",
       "      <td>0</td>\n",
       "      <td>8.72</td>\n",
       "      <td>10</td>\n",
       "      <td>2</td>\n",
       "      <td>13</td>\n",
       "    </tr>\n",
       "    <tr>\n",
       "      <th>1</th>\n",
       "      <td>0.275362</td>\n",
       "      <td>0</td>\n",
       "      <td>13.49</td>\n",
       "      <td>0.250965</td>\n",
       "      <td>0.007538</td>\n",
       "      <td>0</td>\n",
       "      <td>20.00</td>\n",
       "      <td>10</td>\n",
       "      <td>2</td>\n",
       "      <td>9</td>\n",
       "    </tr>\n",
       "    <tr>\n",
       "      <th>3</th>\n",
       "      <td>0.130435</td>\n",
       "      <td>0</td>\n",
       "      <td>7.90</td>\n",
       "      <td>0.109166</td>\n",
       "      <td>0.005337</td>\n",
       "      <td>0</td>\n",
       "      <td>11.20</td>\n",
       "      <td>3</td>\n",
       "      <td>2</td>\n",
       "      <td>0</td>\n",
       "    </tr>\n",
       "    <tr>\n",
       "      <th>4</th>\n",
       "      <td>0.188406</td>\n",
       "      <td>1</td>\n",
       "      <td>15.96</td>\n",
       "      <td>0.119729</td>\n",
       "      <td>0.007172</td>\n",
       "      <td>0</td>\n",
       "      <td>23.51</td>\n",
       "      <td>8</td>\n",
       "      <td>2</td>\n",
       "      <td>6</td>\n",
       "    </tr>\n",
       "    <tr>\n",
       "      <th>5</th>\n",
       "      <td>0.072464</td>\n",
       "      <td>0</td>\n",
       "      <td>18.64</td>\n",
       "      <td>0.072695</td>\n",
       "      <td>0.007338</td>\n",
       "      <td>0</td>\n",
       "      <td>5.35</td>\n",
       "      <td>9</td>\n",
       "      <td>2</td>\n",
       "      <td>3</td>\n",
       "    </tr>\n",
       "  </tbody>\n",
       "</table>\n",
       "</div>"
      ],
      "text/plain": [
       "   loan_amnt  term  int_rate  installment  annual_inc  loan_status    dti  \\\n",
       "0   0.055072     0     15.96     0.053230    0.001376            0   8.72   \n",
       "1   0.275362     0     13.49     0.250965    0.007538            0  20.00   \n",
       "3   0.130435     0      7.90     0.109166    0.005337            0  11.20   \n",
       "4   0.188406     1     15.96     0.119729    0.007172            0  23.51   \n",
       "5   0.072464     0     18.64     0.072695    0.007338            0   5.35   \n",
       "\n",
       "   emp_length  home_ownership_encoder  purpose_encoder  \n",
       "0          10                       2               13  \n",
       "1          10                       2                9  \n",
       "3           3                       2                0  \n",
       "4           8                       2                6  \n",
       "5           9                       2                3  "
      ]
     },
     "execution_count": 112,
     "metadata": {},
     "output_type": "execute_result"
    }
   ],
   "source": [
    "dfle3.drop(['home_ownership','purpose','grade','verification_status'],axis = 1,inplace=True,errors = 'ignore')\n",
    "dfle3.head()"
   ]
  },
  {
   "cell_type": "markdown",
   "id": "023c3723",
   "metadata": {},
   "source": [
    "#### ~Remove Outliers"
   ]
  },
  {
   "cell_type": "code",
   "execution_count": 113,
   "id": "fb84adb9",
   "metadata": {},
   "outputs": [
    {
     "data": {
      "text/plain": [
       "(37531, 10)"
      ]
     },
     "execution_count": 113,
     "metadata": {},
     "output_type": "execute_result"
    }
   ],
   "source": [
    "loan = dfle3[dfle3.annual_inc<0.2]\n",
    "loan.shape"
   ]
  },
  {
   "cell_type": "code",
   "execution_count": 114,
   "id": "583f9366",
   "metadata": {},
   "outputs": [],
   "source": [
    "x = loan.drop('loan_status',axis = 1)\n",
    "y = loan.loan_status"
   ]
  },
  {
   "cell_type": "markdown",
   "id": "8af6edd0",
   "metadata": {},
   "source": [
    "#### ~Logistics Regression model"
   ]
  },
  {
   "cell_type": "code",
   "execution_count": 126,
   "id": "8db941ad",
   "metadata": {},
   "outputs": [
    {
     "data": {
      "text/html": [
       "<div>\n",
       "<style scoped>\n",
       "    .dataframe tbody tr th:only-of-type {\n",
       "        vertical-align: middle;\n",
       "    }\n",
       "\n",
       "    .dataframe tbody tr th {\n",
       "        vertical-align: top;\n",
       "    }\n",
       "\n",
       "    .dataframe thead th {\n",
       "        text-align: right;\n",
       "    }\n",
       "</style>\n",
       "<table border=\"1\" class=\"dataframe\">\n",
       "  <thead>\n",
       "    <tr style=\"text-align: right;\">\n",
       "      <th></th>\n",
       "      <th>loan_amnt</th>\n",
       "      <th>term</th>\n",
       "      <th>int_rate</th>\n",
       "      <th>installment</th>\n",
       "      <th>annual_inc</th>\n",
       "      <th>dti</th>\n",
       "      <th>emp_length</th>\n",
       "      <th>home_ownership_encoder</th>\n",
       "      <th>purpose_encoder</th>\n",
       "    </tr>\n",
       "  </thead>\n",
       "  <tbody>\n",
       "    <tr>\n",
       "      <th>20944</th>\n",
       "      <td>0.089855</td>\n",
       "      <td>0</td>\n",
       "      <td>10.0</td>\n",
       "      <td>0.077922</td>\n",
       "      <td>0.008381</td>\n",
       "      <td>14.29</td>\n",
       "      <td>3</td>\n",
       "      <td>2</td>\n",
       "      <td>6</td>\n",
       "    </tr>\n",
       "  </tbody>\n",
       "</table>\n",
       "</div>"
      ],
      "text/plain": [
       "       loan_amnt  term  int_rate  installment  annual_inc    dti  emp_length  \\\n",
       "20944   0.089855     0      10.0     0.077922    0.008381  14.29           3   \n",
       "\n",
       "       home_ownership_encoder  purpose_encoder  \n",
       "20944                       2                6  "
      ]
     },
     "execution_count": 126,
     "metadata": {},
     "output_type": "execute_result"
    }
   ],
   "source": [
    "from sklearn.model_selection import train_test_split\n",
    "X_train, X_test, y_train, y_test = train_test_split(x, y, test_size=0.2)\n"
   ]
  },
  {
   "cell_type": "code",
   "execution_count": 125,
   "id": "2d9ffff3",
   "metadata": {},
   "outputs": [
    {
     "data": {
      "text/plain": [
       "LogisticRegression(C=10, solver='newton-cg')"
      ]
     },
     "execution_count": 125,
     "metadata": {},
     "output_type": "execute_result"
    }
   ],
   "source": [
    "from sklearn.linear_model import LogisticRegression\n",
    "lr = LogisticRegression(solver = 'newton-cg',multi_class = 'auto',C = 10)\n",
    "lr.fit(X_train,y_train)"
   ]
  },
  {
   "cell_type": "code",
   "execution_count": 124,
   "id": "079ad5f8",
   "metadata": {},
   "outputs": [
    {
     "data": {
      "text/plain": [
       "0.8553350206473957"
      ]
     },
     "execution_count": 124,
     "metadata": {},
     "output_type": "execute_result"
    }
   ],
   "source": [
    "lr.score(X_test,y_test)"
   ]
  },
  {
   "cell_type": "code",
   "execution_count": 159,
   "id": "5a0a84fb",
   "metadata": {},
   "outputs": [
    {
     "data": {
      "text/plain": [
       "array([[ 3.95268274e-01,  5.22198201e-01,  1.33363405e-01,\n",
       "        -8.89627132e-01, -1.66982910e+01,  7.46250878e-03,\n",
       "         1.29333645e-02,  4.67117585e-02,  7.50532639e-02]])"
      ]
     },
     "execution_count": 159,
     "metadata": {},
     "output_type": "execute_result"
    }
   ],
   "source": [
    "lr.coef_"
   ]
  },
  {
   "cell_type": "markdown",
   "id": "3a261d97",
   "metadata": {},
   "source": [
    "#### ~Hyperparameter Tunning"
   ]
  },
  {
   "cell_type": "code",
   "execution_count": 61,
   "id": "6add6578",
   "metadata": {},
   "outputs": [],
   "source": [
    "from sklearn.ensemble import RandomForestClassifier\n",
    "from sklearn.naive_bayes import GaussianNB\n",
    "from sklearn.naive_bayes import MultinomialNB\n",
    "from sklearn.tree import DecisionTreeClassifier\n",
    "from sklearn.model_selection import GridSearchCV"
   ]
  },
  {
   "cell_type": "code",
   "execution_count": 120,
   "id": "e84cf090",
   "metadata": {},
   "outputs": [],
   "source": [
    "#define parameter for different model\n",
    "om  = {\n",
    "    'lr':{\n",
    "        'model':LogisticRegression(),\n",
    "        'params': {'C':[1,5,10],\n",
    "                  'solver':['sag','saga','lbfgs','newton-cg']}\n",
    "         },\n",
    "    'rf':{\n",
    "        'model':RandomForestClassifier(),\n",
    "        'params':{'n_estimators':[1,10,100]}\n",
    "         },\n",
    "    'dt':{\n",
    "        'model':DecisionTreeClassifier(),\n",
    "        'params':{'criterion' : [\"gini\", \"entropy\"]}\n",
    "        },\n",
    "    'gnb':{\n",
    "        'model': GaussianNB(),\n",
    "        'params':{}\n",
    "        },\n",
    "    'mnb':{\n",
    "        'model': MultinomialNB(),\n",
    "        'params':{}\n",
    "        },\n",
    "    \n",
    "    }"
   ]
  },
  {
   "cell_type": "code",
   "execution_count": 121,
   "id": "6f6228f6",
   "metadata": {},
   "outputs": [],
   "source": [
    "#find the best score with parameter for different model\n",
    "score = []\n",
    "for model_name,m_p in om.items():\n",
    "    model = GridSearchCV(m_p['model'],m_p['params'],cv = 3,return_train_score = False)\n",
    "    model.fit(X_train,y_train)\n",
    "    score.append({'model':model_name,\n",
    "                 'best_score':model.best_score_,\n",
    "                 'best_param':model.best_params_\n",
    "                 })"
   ]
  },
  {
   "cell_type": "code",
   "execution_count": 122,
   "id": "012008b6",
   "metadata": {},
   "outputs": [
    {
     "data": {
      "text/html": [
       "<div>\n",
       "<style scoped>\n",
       "    .dataframe tbody tr th:only-of-type {\n",
       "        vertical-align: middle;\n",
       "    }\n",
       "\n",
       "    .dataframe tbody tr th {\n",
       "        vertical-align: top;\n",
       "    }\n",
       "\n",
       "    .dataframe thead th {\n",
       "        text-align: right;\n",
       "    }\n",
       "</style>\n",
       "<table border=\"1\" class=\"dataframe\">\n",
       "  <thead>\n",
       "    <tr style=\"text-align: right;\">\n",
       "      <th></th>\n",
       "      <th>model</th>\n",
       "      <th>best_score</th>\n",
       "      <th>best_param</th>\n",
       "    </tr>\n",
       "  </thead>\n",
       "  <tbody>\n",
       "    <tr>\n",
       "      <th>0</th>\n",
       "      <td>lr</td>\n",
       "      <td>0.857248</td>\n",
       "      <td>{'C': 10, 'solver': 'newton-cg'}</td>\n",
       "    </tr>\n",
       "    <tr>\n",
       "      <th>1</th>\n",
       "      <td>rf</td>\n",
       "      <td>0.853717</td>\n",
       "      <td>{'n_estimators': 100}</td>\n",
       "    </tr>\n",
       "    <tr>\n",
       "      <th>2</th>\n",
       "      <td>dt</td>\n",
       "      <td>0.765254</td>\n",
       "      <td>{'criterion': 'entropy'}</td>\n",
       "    </tr>\n",
       "    <tr>\n",
       "      <th>3</th>\n",
       "      <td>gnb</td>\n",
       "      <td>0.802824</td>\n",
       "      <td>{}</td>\n",
       "    </tr>\n",
       "    <tr>\n",
       "      <th>4</th>\n",
       "      <td>mnb</td>\n",
       "      <td>0.847722</td>\n",
       "      <td>{}</td>\n",
       "    </tr>\n",
       "  </tbody>\n",
       "</table>\n",
       "</div>"
      ],
      "text/plain": [
       "  model  best_score                        best_param\n",
       "0    lr    0.857248  {'C': 10, 'solver': 'newton-cg'}\n",
       "1    rf    0.853717             {'n_estimators': 100}\n",
       "2    dt    0.765254          {'criterion': 'entropy'}\n",
       "3   gnb    0.802824                                {}\n",
       "4   mnb    0.847722                                {}"
      ]
     },
     "execution_count": 122,
     "metadata": {},
     "output_type": "execute_result"
    }
   ],
   "source": [
    "results = pd.DataFrame(score,columns = ['model','best_score','best_param'])\n",
    "results"
   ]
  },
  {
   "cell_type": "code",
   "execution_count": 72,
   "id": "32f94138",
   "metadata": {},
   "outputs": [],
   "source": [
    "xfold = loan.drop('loan_status',axis = 1).values\n",
    "yfold = loan.loan_status.values"
   ]
  },
  {
   "cell_type": "code",
   "execution_count": 73,
   "id": "3fbfca86",
   "metadata": {},
   "outputs": [],
   "source": [
    "def get_score(model,X_train, X_test, y_train, y_test):\n",
    "    model.fit(X_train,y_train)\n",
    "    return model.score(X_test,y_test)"
   ]
  },
  {
   "cell_type": "code",
   "execution_count": 74,
   "id": "d5fd8156",
   "metadata": {},
   "outputs": [],
   "source": [
    "from sklearn.model_selection import StratifiedKFold\n",
    "folds = StratifiedKFold(n_splits=3)"
   ]
  },
  {
   "cell_type": "code",
   "execution_count": 79,
   "id": "a6ca8732",
   "metadata": {},
   "outputs": [],
   "source": [
    "#Implemented K-fold validation for different model\n",
    "score_lr = []\n",
    "score_svm = []\n",
    "score_rf = []\n",
    "for train_index,test_index in folds.split(xfold,yfold):\n",
    "    X_train, X_test, y_train, y_test = xfold[train_index], \\\n",
    "                                    xfold[test_index],yfold[train_index],yfold[test_index]\n",
    "    score_lr.append(get_score(LogisticRegression(),X_train, X_test, y_train, y_test))\n",
    "    score_svm.append(get_score(SVC(),X_train, X_test, y_train, y_test))\n",
    "    score_rf.append(get_score(RandomForestClassifier(n_estimators=40),X_train, X_test, y_train, y_test))"
   ]
  },
  {
   "cell_type": "code",
   "execution_count": 80,
   "id": "14811be7",
   "metadata": {},
   "outputs": [
    {
     "data": {
      "text/plain": [
       "[0.8563663975701383, 0.8545163868904876, 0.8561950439648282]"
      ]
     },
     "execution_count": 80,
     "metadata": {},
     "output_type": "execute_result"
    }
   ],
   "source": [
    "score_lr"
   ]
  },
  {
   "cell_type": "code",
   "execution_count": 81,
   "id": "21ceb18a",
   "metadata": {},
   "outputs": [
    {
     "data": {
      "text/plain": [
       "[0.8562065382463432, 0.8561950439648282, 0.8561950439648282]"
      ]
     },
     "execution_count": 81,
     "metadata": {},
     "output_type": "execute_result"
    }
   ],
   "source": [
    "score_svm"
   ]
  },
  {
   "cell_type": "code",
   "execution_count": 78,
   "id": "f25166a4",
   "metadata": {},
   "outputs": [
    {
     "data": {
      "text/plain": [
       "[0.8455758932139718, 0.846123101518785, 0.8553956834532375]"
      ]
     },
     "execution_count": 78,
     "metadata": {},
     "output_type": "execute_result"
    }
   ],
   "source": [
    "score_rf"
   ]
  },
  {
   "cell_type": "code",
   "execution_count": 155,
   "id": "e5028610",
   "metadata": {},
   "outputs": [],
   "source": [
    "#loan amount(max:35000,min:500), installment(max:1305.19,min:15.69), Annual income(max:6000000.0,min:4000.0) \n",
    "def predict_loan_status(loan_amnt, term, int_rate, installment,home_ownership, annual_inc,purpose, dti, emp_length):\n",
    "    Loan_amount = (loan_amnt-500)/(35000-500)\n",
    "    Installment = (installment-15.69)/(1305.19-15.69)\n",
    "    Annual_income = (annual_inc-4000)/(6000000-4000)\n",
    "    T = {'36 months':0,'60 months':1}\n",
    "    Term = T[term]\n",
    "    h_o = {'MORTGAGE':0,'OWN':1,'RENT':2,'OTHER':3}\n",
    "    Home = h_o[home_ownership]\n",
    "    p ={'wedding':0,'major_purchase':1,'credit_card':2,'car':3,'home_improvement':4,\n",
    "        'vacation':5,'debt_consolidation':6,'moving':7,'medical':8,'other':9,'educational':10,\n",
    "        'house':11,'renewable_energy':12,'small_business':13}\n",
    "    Purpose = p[purpose]\n",
    "    \n",
    "    status = lr.predict(np.array([[Loan_amount, Term, int_rate, Installment, Annual_income,dti, emp_length,Home,Purpose]]))\n",
    "    loan_status = {0:'Paid',1:'Default'}\n",
    "    return loan_status[status[0]]"
   ]
  },
  {
   "cell_type": "code",
   "execution_count": 157,
   "id": "ae523073",
   "metadata": {},
   "outputs": [
    {
     "name": "stdout",
     "output_type": "stream",
     "text": [
      "Default\n"
     ]
    }
   ],
   "source": [
    "print(predict_loan_status(8000,'36 months',7.29,248.08,'RENT',80000.0,'major_purchase',10.81,10))"
   ]
  },
  {
   "cell_type": "markdown",
   "id": "14004195",
   "metadata": {},
   "source": [
    "### Generate pickle file"
   ]
  },
  {
   "cell_type": "code",
   "execution_count": 134,
   "id": "f8f2221f",
   "metadata": {},
   "outputs": [],
   "source": [
    "import pickle\n",
    "with open('Loan_Analysis.pickle','wb') as f:\n",
    "    pickle.dump(lr,f)"
   ]
  },
  {
   "cell_type": "markdown",
   "id": "e9d56ef8",
   "metadata": {},
   "source": [
    "### Generate json file for column code"
   ]
  },
  {
   "cell_type": "code",
   "execution_count": 158,
   "id": "4b1e445b",
   "metadata": {},
   "outputs": [],
   "source": [
    "import json\n",
    "C = ['loan_amnt', 'term', 'int_rate', 'installment','home_ownership', 'annual_inc','purpose', 'dti', 'emp_length']\n",
    "columns = {\n",
    "    'data_column': [col.lower() for col in C]\n",
    "}\n",
    "with open('loan_columns.json','w') as f:\n",
    "    f.write(json.dumps(columns))"
   ]
  }
 ],
 "metadata": {
  "kernelspec": {
   "display_name": "Python 3",
   "language": "python",
   "name": "python3"
  },
  "language_info": {
   "codemirror_mode": {
    "name": "ipython",
    "version": 3
   },
   "file_extension": ".py",
   "mimetype": "text/x-python",
   "name": "python",
   "nbconvert_exporter": "python",
   "pygments_lexer": "ipython3",
   "version": "3.8.8"
  }
 },
 "nbformat": 4,
 "nbformat_minor": 5
}
